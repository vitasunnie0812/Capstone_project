{
 "cells": [
  {
   "cell_type": "markdown",
   "id": "f36f2a7c",
   "metadata": {},
   "source": [
    "### Business Requirements - ETL\n",
    "#### 1. Functional Requirements - Load Credit Card Database "
   ]
  },
  {
   "cell_type": "markdown",
   "id": "6536a2f2",
   "metadata": {},
   "source": [
    "\n",
    "#### Req-1.1\n",
    "Data Extraction and Transformation with Python and \n",
    "PySpark\n",
    "\n",
    "For “Credit Card System,” create a Python and PySpark SQL program to read/extract the following JSON files according to the specifications found in the mapping document.\n",
    " \n",
    "1. CDW_SAPP_BRANCH.JSON\n",
    "2. CDW_SAPP_CREDITCARD.JSON\n",
    "3. CDW_SAPP_CUSTOMER.JSON\n"
   ]
  },
  {
   "cell_type": "code",
   "execution_count": 2,
   "id": "3a04c5c2",
   "metadata": {},
   "outputs": [],
   "source": [
    "# import pkg_resources\n",
    "# pkg_resources.require(\"pyspark==3.2.1\")\n",
    "import pyspark\n",
    "from pyspark.sql import SparkSession\n",
    "\n",
    "spark = SparkSession.builder.master(\"local[*]\").appName(\"Capstone\").getOrCreate()"
   ]
  },
  {
   "cell_type": "code",
   "execution_count": 3,
   "id": "516dbd93",
   "metadata": {},
   "outputs": [
    {
     "data": {
      "text/html": [
       "\n",
       "            <div>\n",
       "                <p><b>SparkSession - in-memory</b></p>\n",
       "                \n",
       "        <div>\n",
       "            <p><b>SparkContext</b></p>\n",
       "\n",
       "            <p><a href=\"http://host.docker.internal:4040\">Spark UI</a></p>\n",
       "\n",
       "            <dl>\n",
       "              <dt>Version</dt>\n",
       "                <dd><code>v3.3.0</code></dd>\n",
       "              <dt>Master</dt>\n",
       "                <dd><code>local[*]</code></dd>\n",
       "              <dt>AppName</dt>\n",
       "                <dd><code>Capstone</code></dd>\n",
       "            </dl>\n",
       "        </div>\n",
       "        \n",
       "            </div>\n",
       "        "
      ],
      "text/plain": [
       "<pyspark.sql.session.SparkSession at 0x1ad26f16b50>"
      ]
     },
     "execution_count": 3,
     "metadata": {},
     "output_type": "execute_result"
    }
   ],
   "source": [
    "spark"
   ]
  },
  {
   "cell_type": "markdown",
   "id": "af513ebf",
   "metadata": {},
   "source": [
    "#### READ TABLES AND TRANSFORM"
   ]
  },
  {
   "cell_type": "code",
   "execution_count": 5,
   "id": "90f02801",
   "metadata": {},
   "outputs": [
    {
     "name": "stdout",
     "output_type": "stream",
     "text": [
      "root\n",
      " |-- BRANCH_CITY: string (nullable = true)\n",
      " |-- BRANCH_CODE: long (nullable = true)\n",
      " |-- BRANCH_NAME: string (nullable = true)\n",
      " |-- BRANCH_PHONE: string (nullable = true)\n",
      " |-- BRANCH_STATE: string (nullable = true)\n",
      " |-- BRANCH_STREET: string (nullable = true)\n",
      " |-- BRANCH_ZIP: long (nullable = true)\n",
      " |-- LAST_UPDATED: string (nullable = true)\n",
      "\n",
      "+-----------------+-----------+------------+------------+------------+-------------------+----------+--------------------+\n",
      "|      BRANCH_CITY|BRANCH_CODE| BRANCH_NAME|BRANCH_PHONE|BRANCH_STATE|      BRANCH_STREET|BRANCH_ZIP|        LAST_UPDATED|\n",
      "+-----------------+-----------+------------+------------+------------+-------------------+----------+--------------------+\n",
      "|        Lakeville|          1|Example Bank|  1234565276|          MN|       Bridle Court|     55044|2018-04-18T16:51:...|\n",
      "|          Huntley|          2|Example Bank|  1234618993|          IL|  Washington Street|     60142|2018-04-18T16:51:...|\n",
      "|SouthRichmondHill|          3|Example Bank|  1234985926|          NY|      Warren Street|     11419|2018-04-18T16:51:...|\n",
      "|       Middleburg|          4|Example Bank|  1234663064|          FL|   Cleveland Street|     32068|2018-04-18T16:51:...|\n",
      "|    KingOfPrussia|          5|Example Bank|  1234849701|          PA|        14th Street|     19406|2018-04-18T16:51:...|\n",
      "|         Paterson|          7|Example Bank|  1234144890|          NJ|   Jefferson Street|      7501|2018-04-18T16:51:...|\n",
      "|        Pittsford|          8|Example Bank|  1234678272|          NY|           B Street|     14534|2018-04-18T16:51:...|\n",
      "|     Wethersfield|          9|Example Bank|  1234675219|          CT|    Jefferson Court|      6109|2018-04-18T16:51:...|\n",
      "|     NorthOlmsted|         10|Example Bank|  1234145047|          OH|     Cambridge Road|     44070|2018-04-18T16:51:...|\n",
      "|     Hillsborough|         11|Example Bank|  1234366354|          NJ|    3rd Street West|      8844|2018-04-18T16:51:...|\n",
      "|   MadisonHeights|         12|Example Bank|  1234867175|          MI|          Mill Road|     48071|2018-04-18T16:51:...|\n",
      "|           Oviedo|         14|Example Bank|  1234938460|          FL|  Washington Street|     32765|2018-04-18T16:51:...|\n",
      "|    Mechanicsburg|         15|Example Bank|  1234462043|          PA|    Chestnut Street|     17050|2018-04-18T16:51:...|\n",
      "|        Plainview|         16|Example Bank|  1234857525|          NY|       Monroe Drive|     11803|2018-04-18T16:51:...|\n",
      "|          Paducah|         17|Example Bank|  1234546360|          KY|    Railroad Street|     42001|2018-04-18T16:51:...|\n",
      "|     Harleysville|         18|Example Bank|  1234824455|          PA|Church Street South|     19438|2018-04-18T16:51:...|\n",
      "|     SilverSpring|         19|Example Bank|  1234484380|          MD|        King Street|     20901|2018-04-18T16:51:...|\n",
      "|       Burnsville|         20|Example Bank|  1234840138|          MN|   Canterbury Drive|     55337|2018-04-18T16:51:...|\n",
      "|           Tacoma|         21|Example Bank|  1234362433|          WA|         2nd Avenue|     98444|2018-04-18T16:51:...|\n",
      "|         Carlisle|         22|Example Bank|  1234922492|          PA| Front Street South|     17013|2018-04-18T16:51:...|\n",
      "+-----------------+-----------+------------+------------+------------+-------------------+----------+--------------------+\n",
      "only showing top 20 rows\n",
      "\n"
     ]
    }
   ],
   "source": [
    "# branch = spark.read.json(\"./data/cdw_sapp_branch.json\")\n",
    "branch = spark.read.load(\"./data/cdw_sapp_branch.json\", format = 'json')\n",
    "branch.printSchema()\n",
    "branch.show()\n",
    "# type(branch)\n",
    "branch.createTempView(\"branch\")\n"
   ]
  },
  {
   "cell_type": "code",
   "execution_count": 6,
   "id": "a7829beb",
   "metadata": {},
   "outputs": [],
   "source": [
    "branch = branch.na.fill({'BRANCH_ZIP':00000})\n"
   ]
  },
  {
   "cell_type": "code",
   "execution_count": 7,
   "id": "c1754f32",
   "metadata": {},
   "outputs": [
    {
     "name": "stdout",
     "output_type": "stream",
     "text": [
      "+-----------------+-----------+------------+------------+------------+-------------------+----------+--------------------+\n",
      "|      BRANCH_CITY|BRANCH_CODE| BRANCH_NAME|BRANCH_PHONE|BRANCH_STATE|      BRANCH_STREET|BRANCH_ZIP|        LAST_UPDATED|\n",
      "+-----------------+-----------+------------+------------+------------+-------------------+----------+--------------------+\n",
      "|        Lakeville|          1|Example Bank|  1234565276|          MN|       Bridle Court|     55044|2018-04-18T16:51:...|\n",
      "|          Huntley|          2|Example Bank|  1234618993|          IL|  Washington Street|     60142|2018-04-18T16:51:...|\n",
      "|SouthRichmondHill|          3|Example Bank|  1234985926|          NY|      Warren Street|     11419|2018-04-18T16:51:...|\n",
      "|       Middleburg|          4|Example Bank|  1234663064|          FL|   Cleveland Street|     32068|2018-04-18T16:51:...|\n",
      "|    KingOfPrussia|          5|Example Bank|  1234849701|          PA|        14th Street|     19406|2018-04-18T16:51:...|\n",
      "|         Paterson|          7|Example Bank|  1234144890|          NJ|   Jefferson Street|      7501|2018-04-18T16:51:...|\n",
      "|        Pittsford|          8|Example Bank|  1234678272|          NY|           B Street|     14534|2018-04-18T16:51:...|\n",
      "|     Wethersfield|          9|Example Bank|  1234675219|          CT|    Jefferson Court|      6109|2018-04-18T16:51:...|\n",
      "|     NorthOlmsted|         10|Example Bank|  1234145047|          OH|     Cambridge Road|     44070|2018-04-18T16:51:...|\n",
      "|     Hillsborough|         11|Example Bank|  1234366354|          NJ|    3rd Street West|      8844|2018-04-18T16:51:...|\n",
      "|   MadisonHeights|         12|Example Bank|  1234867175|          MI|          Mill Road|     48071|2018-04-18T16:51:...|\n",
      "|           Oviedo|         14|Example Bank|  1234938460|          FL|  Washington Street|     32765|2018-04-18T16:51:...|\n",
      "|    Mechanicsburg|         15|Example Bank|  1234462043|          PA|    Chestnut Street|     17050|2018-04-18T16:51:...|\n",
      "|        Plainview|         16|Example Bank|  1234857525|          NY|       Monroe Drive|     11803|2018-04-18T16:51:...|\n",
      "|          Paducah|         17|Example Bank|  1234546360|          KY|    Railroad Street|     42001|2018-04-18T16:51:...|\n",
      "|     Harleysville|         18|Example Bank|  1234824455|          PA|Church Street South|     19438|2018-04-18T16:51:...|\n",
      "|     SilverSpring|         19|Example Bank|  1234484380|          MD|        King Street|     20901|2018-04-18T16:51:...|\n",
      "|       Burnsville|         20|Example Bank|  1234840138|          MN|   Canterbury Drive|     55337|2018-04-18T16:51:...|\n",
      "|           Tacoma|         21|Example Bank|  1234362433|          WA|         2nd Avenue|     98444|2018-04-18T16:51:...|\n",
      "|         Carlisle|         22|Example Bank|  1234922492|          PA| Front Street South|     17013|2018-04-18T16:51:...|\n",
      "+-----------------+-----------+------------+------------+------------+-------------------+----------+--------------------+\n",
      "only showing top 20 rows\n",
      "\n"
     ]
    }
   ],
   "source": [
    "branch.show()"
   ]
  },
  {
   "cell_type": "code",
   "execution_count": 8,
   "id": "513e1168",
   "metadata": {},
   "outputs": [],
   "source": [
    "from pyspark.sql.functions import concat,lit,col,substring,to_timestamp"
   ]
  },
  {
   "cell_type": "code",
   "execution_count": 9,
   "id": "0504b8d4",
   "metadata": {},
   "outputs": [
    {
     "name": "stdout",
     "output_type": "stream",
     "text": [
      "+-----------------+-----------+------------+-------------+------------+-------------------+----------+-------------------+\n",
      "|      BRANCH_CITY|BRANCH_CODE| BRANCH_NAME| BRANCH_PHONE|BRANCH_STATE|      BRANCH_STREET|BRANCH_ZIP|       LAST_UPDATED|\n",
      "+-----------------+-----------+------------+-------------+------------+-------------------+----------+-------------------+\n",
      "|        Lakeville|          1|Example Bank|(123)456-5276|          MN|       Bridle Court|     55044|2018-04-18 15:51:47|\n",
      "|          Huntley|          2|Example Bank|(123)461-8993|          IL|  Washington Street|     60142|2018-04-18 15:51:47|\n",
      "|SouthRichmondHill|          3|Example Bank|(123)498-5926|          NY|      Warren Street|     11419|2018-04-18 15:51:47|\n",
      "|       Middleburg|          4|Example Bank|(123)466-3064|          FL|   Cleveland Street|     32068|2018-04-18 15:51:47|\n",
      "|    KingOfPrussia|          5|Example Bank|(123)484-9701|          PA|        14th Street|     19406|2018-04-18 15:51:47|\n",
      "|         Paterson|          7|Example Bank|(123)414-4890|          NJ|   Jefferson Street|      7501|2018-04-18 15:51:47|\n",
      "|        Pittsford|          8|Example Bank|(123)467-8272|          NY|           B Street|     14534|2018-04-18 15:51:47|\n",
      "|     Wethersfield|          9|Example Bank|(123)467-5219|          CT|    Jefferson Court|      6109|2018-04-18 15:51:47|\n",
      "|     NorthOlmsted|         10|Example Bank|(123)414-5047|          OH|     Cambridge Road|     44070|2018-04-18 15:51:47|\n",
      "|     Hillsborough|         11|Example Bank|(123)436-6354|          NJ|    3rd Street West|      8844|2018-04-18 15:51:47|\n",
      "|   MadisonHeights|         12|Example Bank|(123)486-7175|          MI|          Mill Road|     48071|2018-04-18 15:51:47|\n",
      "|           Oviedo|         14|Example Bank|(123)493-8460|          FL|  Washington Street|     32765|2018-04-18 15:51:47|\n",
      "|    Mechanicsburg|         15|Example Bank|(123)446-2043|          PA|    Chestnut Street|     17050|2018-04-18 15:51:47|\n",
      "|        Plainview|         16|Example Bank|(123)485-7525|          NY|       Monroe Drive|     11803|2018-04-18 15:51:47|\n",
      "|          Paducah|         17|Example Bank|(123)454-6360|          KY|    Railroad Street|     42001|2018-04-18 15:51:47|\n",
      "|     Harleysville|         18|Example Bank|(123)482-4455|          PA|Church Street South|     19438|2018-04-18 15:51:47|\n",
      "|     SilverSpring|         19|Example Bank|(123)448-4380|          MD|        King Street|     20901|2018-04-18 15:51:47|\n",
      "|       Burnsville|         20|Example Bank|(123)484-0138|          MN|   Canterbury Drive|     55337|2018-04-18 15:51:47|\n",
      "|           Tacoma|         21|Example Bank|(123)436-2433|          WA|         2nd Avenue|     98444|2018-04-18 15:51:47|\n",
      "|         Carlisle|         22|Example Bank|(123)492-2492|          PA| Front Street South|     17013|2018-04-18 15:51:47|\n",
      "+-----------------+-----------+------------+-------------+------------+-------------------+----------+-------------------+\n",
      "only showing top 20 rows\n",
      "\n"
     ]
    }
   ],
   "source": [
    "tr_branch = branch.select(col(\"BRANCH_CITY\") \\\n",
    "          ,col(\"BRANCH_CODE\")\\\n",
    "          ,col(\"BRANCH_NAME\") \\\n",
    "          ,(concat( lit(\"(\") ,substring(col(\"BRANCH_PHONE\"),1,3),lit(\")\") ,substring(col(\"BRANCH_PHONE\"),4,3), lit(\"-\") ,substring(col(\"BRANCH_PHONE\"),7,4) )).alias(\"BRANCH_PHONE\") \\\n",
    "          ,col(\"BRANCH_STATE\") \\\n",
    "          ,col(\"BRANCH_STREET\")\\\n",
    "          ,col(\"BRANCH_ZIP\") \\\n",
    "          ,to_timestamp(concat(substring(col(\"LAST_UPDATED\"),1,10),lit(\" \"),substring(col(\"LAST_UPDATED\"),12,20))).alias(\"LAST_UPDATED\") \\\n",
    "          )\n",
    "# tr_branch = spark.sql(\"SELECT BRANCH_CITY \\\n",
    "#           ,BRANCH_CODE \\\n",
    "#           ,BRANCH_NAME \\ \n",
    "#           ,concat('(' ,substr(BRANCH_PHONE,1,3), ')' ,substr(BRANCH_PHONE,4,3), '-' ,substr(BRANCH_PHONE,7,4)) as BRANCH_PHONE \\\n",
    "#           ,BRANCH_STATE \\\n",
    "#           ,BRANCH_STREET\\\n",
    "#           ,BRANCH_ZIP \\\n",
    "#           ,LAST_UPDATED \\\n",
    "#           from branch\")\n",
    "\n",
    "tr_branch.show()"
   ]
  },
  {
   "cell_type": "code",
   "execution_count": 10,
   "id": "3914694f",
   "metadata": {},
   "outputs": [
    {
     "name": "stdout",
     "output_type": "stream",
     "text": [
      "root\n",
      " |-- BRANCH_CODE: long (nullable = true)\n",
      " |-- CREDIT_CARD_NO: string (nullable = true)\n",
      " |-- CUST_SSN: long (nullable = true)\n",
      " |-- DAY: long (nullable = true)\n",
      " |-- MONTH: long (nullable = true)\n",
      " |-- TRANSACTION_ID: long (nullable = true)\n",
      " |-- TRANSACTION_TYPE: string (nullable = true)\n",
      " |-- TRANSACTION_VALUE: double (nullable = true)\n",
      " |-- YEAR: long (nullable = true)\n",
      "\n",
      "+-----------+----------------+---------+---+-----+--------------+----------------+-----------------+----+\n",
      "|BRANCH_CODE|  CREDIT_CARD_NO| CUST_SSN|DAY|MONTH|TRANSACTION_ID|TRANSACTION_TYPE|TRANSACTION_VALUE|YEAR|\n",
      "+-----------+----------------+---------+---+-----+--------------+----------------+-----------------+----+\n",
      "|        114|4210653349028689|123459988| 14|    2|             1|       Education|             78.9|2018|\n",
      "|         35|4210653349028689|123459988| 20|    3|             2|   Entertainment|            14.24|2018|\n",
      "|        160|4210653349028689|123459988|  8|    7|             3|         Grocery|             56.7|2018|\n",
      "|        114|4210653349028689|123459988| 19|    4|             4|   Entertainment|            59.73|2018|\n",
      "|         93|4210653349028689|123459988| 10|   10|             5|             Gas|             3.59|2018|\n",
      "|        164|4210653349028689|123459988| 28|    5|             6|       Education|             6.89|2018|\n",
      "|        119|4210653349028689|123459988| 19|    5|             7|   Entertainment|            43.39|2018|\n",
      "|         23|4210653349028689|123459988|  8|    8|             8|             Gas|            95.39|2018|\n",
      "|        166|4210653349028689|123459988| 18|    3|             9|   Entertainment|            93.26|2018|\n",
      "|         83|4210653349028689|123459988|  3|    9|            10|           Bills|           100.38|2018|\n",
      "|         52|4210653349028689|123459988| 21|    8|            11|             Gas|            98.75|2018|\n",
      "|         17|4210653349028689|123459988| 24|   12|            12|             Gas|            42.71|2018|\n",
      "|         80|4210653349028689|123459988|  3|    4|            13|         Grocery|            40.24|2018|\n",
      "|         50|4210653349028689|123459988| 15|    4|            14|           Bills|            17.81|2018|\n",
      "|        123|4210653349028689|123459988| 17|    5|            15|           Bills|             29.0|2018|\n",
      "|          9|4210653349028689|123459988|  6|    7|            16|            Test|            70.63|2018|\n",
      "|          3|4210653349028689|123459988| 28|    9|            17|            Test|            27.04|2018|\n",
      "|        135|4210653349028689|123459988|  4|    7|            18|   Entertainment|            88.75|2018|\n",
      "|        103|4210653349028689|123459988| 24|    4|            19|            Test|            77.02|2018|\n",
      "|         78|4210653349028689|123459988|  8|   10|            20|           Bills|            34.34|2018|\n",
      "+-----------+----------------+---------+---+-----+--------------+----------------+-----------------+----+\n",
      "only showing top 20 rows\n",
      "\n"
     ]
    }
   ],
   "source": [
    "credit = spark.read.load(\"./data/cdw_sapp_credit.json\", format = 'json')\n",
    "credit.printSchema()\n",
    "# credit.show()\n",
    "credit.createTempView(\"credit\")\n",
    "spark.sql(\"SELECT * from credit\").show()"
   ]
  },
  {
   "cell_type": "code",
   "execution_count": 11,
   "id": "8e2f31a0",
   "metadata": {},
   "outputs": [
    {
     "name": "stdout",
     "output_type": "stream",
     "text": [
      "+-----------+----------------+---------+--------+--------------+----------------+-----------------+\n",
      "|BRANCH_CODE|      CUST_CC_NO| CUST_SSN|  TIMEID|TRANSACTION_ID|TRANSACTION_TYPE|TRANSACTION_VALUE|\n",
      "+-----------+----------------+---------+--------+--------------+----------------+-----------------+\n",
      "|        114|4210653349028689|123459988|20180214|             1|       Education|             78.9|\n",
      "|         35|4210653349028689|123459988|20180320|             2|   Entertainment|            14.24|\n",
      "|        160|4210653349028689|123459988|20180708|             3|         Grocery|             56.7|\n",
      "|        114|4210653349028689|123459988|20180419|             4|   Entertainment|            59.73|\n",
      "|         93|4210653349028689|123459988|20181010|             5|             Gas|             3.59|\n",
      "|        164|4210653349028689|123459988|20180528|             6|       Education|             6.89|\n",
      "|        119|4210653349028689|123459988|20180519|             7|   Entertainment|            43.39|\n",
      "|         23|4210653349028689|123459988|20180808|             8|             Gas|            95.39|\n",
      "|        166|4210653349028689|123459988|20180318|             9|   Entertainment|            93.26|\n",
      "|         83|4210653349028689|123459988|20180903|            10|           Bills|           100.38|\n",
      "|         52|4210653349028689|123459988|20180821|            11|             Gas|            98.75|\n",
      "|         17|4210653349028689|123459988|20181224|            12|             Gas|            42.71|\n",
      "|         80|4210653349028689|123459988|20180403|            13|         Grocery|            40.24|\n",
      "|         50|4210653349028689|123459988|20180415|            14|           Bills|            17.81|\n",
      "|        123|4210653349028689|123459988|20180517|            15|           Bills|             29.0|\n",
      "|          9|4210653349028689|123459988|20180706|            16|            Test|            70.63|\n",
      "|          3|4210653349028689|123459988|20180928|            17|            Test|            27.04|\n",
      "|        135|4210653349028689|123459988|20180704|            18|   Entertainment|            88.75|\n",
      "|        103|4210653349028689|123459988|20180424|            19|            Test|            77.02|\n",
      "|         78|4210653349028689|123459988|20181008|            20|           Bills|            34.34|\n",
      "+-----------+----------------+---------+--------+--------------+----------------+-----------------+\n",
      "only showing top 20 rows\n",
      "\n"
     ]
    }
   ],
   "source": [
    "# tr_credit =  credit.select(col(\"BRANCH_CODE\") \\\n",
    "#           ,col(\"CREDIT_CARD_NO\")\\\n",
    "#           ,col(\"CUST_SSN\") \\\n",
    "#           ,concat( lit(\"(\") ,substring(col(\"BRANCH_PHONE\"),1,3),lit(\")\") ,substring(col(\"BRANCH_PHONE\"),4,3), lit(\"-\") ,substring(col(\"BRANCH_PHONE\"),7,4) )  \\\n",
    "#           ,col(\"BRANCH_STATE\") \\\n",
    "#           ,col(\"BRANCH_STREET\")\\\n",
    "#           ,col(\"BRANCH_ZIP\") \\\n",
    "#           ,col(\"LAST_UPDATED\") \\\n",
    "#           )\n",
    "# tr_branch.show()\n",
    "tr_credit = spark.sql(\"SELECT BRANCH_CODE\\\n",
    "                    , CREDIT_CARD_NO as CUST_CC_NO\\\n",
    "                    , CUST_SSN \\\n",
    "                    , CASE WHEN MONTH<10 and DAY<10 THEN concat(YEAR,'0',MONTH,'0',DAY) \\\n",
    "                      WHEN MONTH<10 THEN concat(YEAR,'0',MONTH,DAY)\\\n",
    "                      WHEN DAY<10 THEN concat(YEAR,MONTH,'0',DAY) \\\n",
    "                      ELSE concat(YEAR,MONTH,DAY) END as TIMEID \\\n",
    "                    ,TRANSACTION_ID\\\n",
    "                    ,TRANSACTION_TYPE\\\n",
    "                    ,TRANSACTION_VALUE\\\n",
    "                    from credit\")\n",
    "tr_credit.show()\n",
    "tr_credit.createTempView(\"tr_credit\")"
   ]
  },
  {
   "cell_type": "code",
   "execution_count": 12,
   "id": "3ddc907a",
   "metadata": {},
   "outputs": [
    {
     "name": "stdout",
     "output_type": "stream",
     "text": [
      "root\n",
      " |-- APT_NO: string (nullable = true)\n",
      " |-- CREDIT_CARD_NO: string (nullable = true)\n",
      " |-- CUST_CITY: string (nullable = true)\n",
      " |-- CUST_COUNTRY: string (nullable = true)\n",
      " |-- CUST_EMAIL: string (nullable = true)\n",
      " |-- CUST_PHONE: long (nullable = true)\n",
      " |-- CUST_STATE: string (nullable = true)\n",
      " |-- CUST_ZIP: string (nullable = true)\n",
      " |-- FIRST_NAME: string (nullable = true)\n",
      " |-- LAST_NAME: string (nullable = true)\n",
      " |-- LAST_UPDATED: string (nullable = true)\n",
      " |-- MIDDLE_NAME: string (nullable = true)\n",
      " |-- SSN: long (nullable = true)\n",
      " |-- STREET_NAME: string (nullable = true)\n",
      "\n"
     ]
    }
   ],
   "source": [
    "customer = spark.read.load(\"./data/cdw_sapp_customer.json\", format = 'json')\n",
    "customer.printSchema()\n",
    "# customer.show()\n",
    "customer.createTempView(\"customer\")\n"
   ]
  },
  {
   "cell_type": "code",
   "execution_count": 13,
   "id": "51c310ff",
   "metadata": {},
   "outputs": [
    {
     "name": "stdout",
     "output_type": "stream",
     "text": [
      "+---------+----------------+------------+----------+-------------+--------------------+--------+----------+--------------------+----------+-----------+---------+-------------------+\n",
      "|      SSN|  CREDIT_CARD_NO|   CUST_CITY|CUST_STATE| CUST_COUNTRY|          CUST_EMAIL|CUST_ZIP|CUST_PHONE| FULL_STREET_ADDRESS|FIRST_NAME|MIDDLE_NAME|LAST_NAME|       LAST_UPDATED|\n",
      "+---------+----------------+------------+----------+-------------+--------------------+--------+----------+--------------------+----------+-----------+---------+-------------------+\n",
      "|123456100|4210653310061055|     Natchez|        MS|United States| AHooper@example.com|   39120|  123-7818|Main Street North...|      Alec|         Wm|   Hooper|2018-04-21 11:49:02|\n",
      "|123453023|4210653310102868|Wethersfield|        CT|United States| EHolman@example.com|   06109|  123-8933|   Redwood Drive,829|      Etta|    Brendan|   Holman|2018-04-21 11:49:02|\n",
      "|123454487|4210653310116272|     Huntley|        IL|United States| WDunham@example.com|   60142|  124-3018|12th Street East,683|    Wilber|   Ezequiel|   Dunham|2018-04-21 11:49:02|\n",
      "|123459758|4210653310195948|   NewBerlin|        WI|United States|  EHardy@example.com|   53151|  124-3215|Country Club Road...|   Eugenio|      Trina|    Hardy|2018-04-21 11:49:02|\n",
      "|123454431|4210653310356919|      ElPaso|        TX|United States|  WAyers@example.com|   79930|  124-2074|  Madison Street,301|   Wilfred|        May|    Ayers|2018-04-21 11:49:02|\n",
      "|123454202|4210653310395982|NorthOlmsted|        OH|United States|BWoodard@example.com|   44070|  124-2570|    Colonial Drive,3|      Beau|    Ambrose|  Woodard|2018-04-21 11:49:02|\n",
      "|123451799|4210653310400536|      Vienna|        VA|United States|   SKemp@example.com|   22180|  123-9685|   Belmont Avenue,84|    Sheila|      Larry|     Kemp|2018-04-21 11:49:02|\n",
      "|123453875|4210653310459911|      Duarte|        CA|United States| WHurley@example.com|   91010|  123-8213|    Oxford Court,728|     Wendy|        Ora|   Hurley|2018-04-21 11:49:02|\n",
      "|123457511|4210653310773972|      Owosso|        MI|United States|AGilmore@example.com|   48867|  124-0689|    Forest Street,81|      Alec|     Tracie|  Gilmore|2018-04-21 11:49:02|\n",
      "|123457464|4210653310794854|        Zion|        IL|United States|    BLau@example.com|   60099|  123-5222|    Court Street,561|    Barbra|    Mitchel|      Lau|2018-04-21 11:49:02|\n",
      "|123457639|4210653310817373|  Youngstown|        OH|United States|EThomson@example.com|   44512|  124-1363|   Cypress Court,622|   Edmundo|      Denny|  Thomson|2018-04-21 11:49:02|\n",
      "|123453242|4210653310844617| Summerville|        SC|United States| ETruong@example.com|   29483|  123-6228| 8th Street West,924|      Elsa|   Isabelle|   Truong|2018-04-21 11:49:02|\n",
      "|123454339|4210653311015303|      ElPaso|        TX|United States|HMckinney@example...|   79930|  123-8165|     East Avenue,611|     Homer|      Henry| Mckinney|2018-04-21 11:49:02|\n",
      "|123454537|4210653311215039|      Fenton|        MI|United States|   RKidd@example.com|   48430|  123-4730|        Route 44,680|      Rita|     Rickey|     Kidd|2018-04-21 11:49:02|\n",
      "|123452373|4210653311229354|  Grandville|        MI|United States|ABallard@example.com|   49418|  124-2113|    Warren Street,71|    Amalia|  Heriberto|  Ballard|2018-04-21 11:49:02|\n",
      "|123455343|4210653311652836|    YubaCity|        CA|United States| PThomas@example.com|   95993|  123-9888|    Jones Street,195|     Patty|   Angelita|   Thomas|2018-04-21 11:49:02|\n",
      "|123451533|4210653311707126|   CapeCoral|        FL|United States| JMorrow@example.com|   33904|  124-0158|      New Street,500|  Josefina|   Dorothea|   Morrow|2018-04-21 11:49:02|\n",
      "|123459278|4210653311730764|  Brookfield|        WI|United States|NAndrews@example.com|   53045|  124-1408| Division Street,989|    Nelson|  Jefferson|  Andrews|2018-04-21 11:49:02|\n",
      "|123456915|4210653311898082|    Richmond|        VA|United States|MSchneider@exampl...|   23223|  123-8390|    Maple Street,810|    Miquel|     Maximo|Schneider|2018-04-21 11:49:02|\n",
      "|123453807|4210653312021765| WestChester|        PA|United States|PTidwell@example.com|   19380|  123-5067|      Eagle Road,649|    Parker|    Arnulfo|  Tidwell|2018-04-21 11:49:02|\n",
      "+---------+----------------+------------+----------+-------------+--------------------+--------+----------+--------------------+----------+-----------+---------+-------------------+\n",
      "only showing top 20 rows\n",
      "\n"
     ]
    }
   ],
   "source": [
    "tr_customer = spark.sql(\"SELECT SSN\\\n",
    "                ,CREDIT_CARD_NO\\\n",
    "                ,CUST_CITY\\\n",
    "                ,CUST_STATE\\\n",
    "                ,CUST_COUNTRY\\\n",
    "                ,CUST_EMAIL\\\n",
    "                ,CUST_ZIP\\\n",
    "                ,concat( substr(CUST_PHONE,1,3) , '-', substr(CUST_PHONE,4,4)) as CUST_PHONE \\\n",
    "                ,concat(STREET_NAME, ',' ,APT_NO) as FULL_STREET_ADDRESS \\\n",
    "                ,concat(UPPER(substr(FIRST_NAME,1,1)),LOWER(substr(FIRST_NAME,2))) as FIRST_NAME\\\n",
    "                ,concat(UPPER(substr(MIDDLE_NAME,1,1)),LOWER(substr(MIDDLE_NAME,2))) as MIDDLE_NAME\\\n",
    "                ,concat(UPPER(substr(LAST_NAME,1,1)),LOWER(substr(LAST_NAME,2))) as LAST_NAME\\\n",
    "                ,timestamp(concat(substr(LAST_UPDATED,1,10),' ',substr(LAST_UPDATED,12))) as LAST_UPDATED\\\n",
    "                from customer\")\n",
    "tr_customer.show()\n"
   ]
  },
  {
   "cell_type": "markdown",
   "id": "1f07b70f",
   "metadata": {},
   "source": [
    "####  Req-1.2 Data loading into Database\n",
    "\n"
   ]
  },
  {
   "cell_type": "code",
   "execution_count": 118,
   "id": "8165110b",
   "metadata": {},
   "outputs": [],
   "source": [
    "tr_customer.write.format(\"jdbc\") \\\n",
    "          .mode(\"append\") \\\n",
    "          .options(driver=\"com.mysql.cj.jdbc.Driver\",\\\n",
    "                user=\"root\",\\\n",
    "                password=\"root\",\\\n",
    "                url=\"jdbc:mysql://localhost:3306/creditcard_capstone\",\\\n",
    "                dbtable=\"creditcard_capstone.CDW_SAPP_CUSTOMER\").save()"
   ]
  },
  {
   "cell_type": "code",
   "execution_count": 144,
   "id": "3867cdc3",
   "metadata": {},
   "outputs": [],
   "source": [
    "tr_branch.write.format(\"jdbc\") \\\n",
    "          .mode(\"append\") \\\n",
    "          .options(driver=\"com.mysql.cj.jdbc.Driver\",\\\n",
    "                user=\"root\",\\\n",
    "                password=\"root\",\\\n",
    "                url=\"jdbc:mysql://localhost:3306/creditcard_capstone\",\\\n",
    "                dbtable=\"creditcard_capstone.CDW_SAPP_BRANCH\").save()\n"
   ]
  },
  {
   "cell_type": "code",
   "execution_count": 145,
   "id": "39859cd6",
   "metadata": {},
   "outputs": [],
   "source": [
    "tr_credit.write.format(\"jdbc\") \\\n",
    "          .mode(\"append\") \\\n",
    "          .options(driver=\"com.mysql.cj.jdbc.Driver\",\\\n",
    "                user=\"root\",\\\n",
    "                password=\"root\",\\\n",
    "                url=\"jdbc:mysql://localhost:3306/creditcard_capstone\",\\\n",
    "                dbtable=\"creditcard_capstone.CDW_SAPP_CREDIT\").save()\n"
   ]
  },
  {
   "cell_type": "markdown",
   "id": "4affb8ac",
   "metadata": {},
   "source": [
    "### 2. Functional Requirements - Application Front-End\n"
   ]
  },
  {
   "cell_type": "markdown",
   "id": "014505a1",
   "metadata": {},
   "source": [
    "#### Req-2.1 Transaction Details Module"
   ]
  },
  {
   "cell_type": "markdown",
   "id": "786a504d",
   "metadata": {},
   "source": [
    "1)    Used to display the transactions made by customers living in a given zip code for a given month and year. Order by day in descending order."
   ]
  },
  {
   "cell_type": "code",
   "execution_count": 226,
   "id": "eb5a9bff",
   "metadata": {},
   "outputs": [
    {
     "name": "stdout",
     "output_type": "stream",
     "text": [
      "input 5 digit zipcode : 60060\n",
      "input year :2018\n",
      "input month :5\n",
      "+---------+--------+----------+----------+-----------+----------------+---------+---+-----+--------------+----------------+-----------------+----+\n",
      "|      SSN|CUST_ZIP|FIRST_NAME| LAST_NAME|BRANCH_CODE|  CREDIT_CARD_NO| CUST_SSN|DAY|MONTH|TRANSACTION_ID|TRANSACTION_TYPE|TRANSACTION_VALUE|YEAR|\n",
      "+---------+--------+----------+----------+-----------+----------------+---------+---+-----+--------------+----------------+-----------------+----+\n",
      "|123456182|   60060|      Lois|     Welch|         59|4210653353821687|123456182| 28|    5|         20096|       Education|            63.22|2018|\n",
      "|123451180|   60060|     Leona|     Combs|         91|4210653380740678|123451180| 28|    5|         45445|         Grocery|            57.98|2018|\n",
      "|123456941|   60060|     Edwin|     Wells|         45|4210653352401004|123456941| 24|    5|         16263|            Test|            26.55|2018|\n",
      "|123456941|   60060|     Edwin|     Wells|         58|4210653352401004|123456941| 24|    5|         16236|             Gas|            62.95|2018|\n",
      "|123453756|   60060|      Mose|     Hatch|        170|4210653364240213|123453756| 23|    5|         32663|             Gas|            89.93|2018|\n",
      "|123454864|   60060|   Wilfred|   Kaufman|         52|4210653345466468|123454864| 22|    5|         26977|       Education|            31.97|2018|\n",
      "|123454373|   60060|    Aurora|     Kline|         56|4210653379545814|123454373| 17|    5|         29514|             Gas|            46.82|2018|\n",
      "|123454864|   60060|   Wilfred|   Kaufman|        158|4210653345466468|123454864| 17|    5|         26966|       Education|            57.09|2018|\n",
      "|123456941|   60060|     Edwin|     Wells|        119|4210653352401004|123456941| 14|    5|         16240|             Gas|            51.36|2018|\n",
      "|123456941|   60060|     Edwin|     Wells|         78|4210653352401004|123456941| 14|    5|         16270|         Grocery|            89.23|2018|\n",
      "|123454864|   60060|   Wilfred|   Kaufman|        123|4210653345466468|123454864| 13|    5|         26906|         Grocery|            56.85|2018|\n",
      "|123454864|   60060|   Wilfred|   Kaufman|         70|4210653345466468|123454864| 12|    5|         26945|            Test|             79.7|2018|\n",
      "|123454373|   60060|    Aurora|     Kline|         90|4210653379545814|123454373| 11|    5|         29533|             Gas|            77.65|2018|\n",
      "|123456941|   60060|     Edwin|     Wells|         40|4210653352401004|123456941| 11|    5|         16225|       Education|            97.15|2018|\n",
      "|123456182|   60060|      Lois|     Welch|         21|4210653353821687|123456182|  8|    5|         20099|         Grocery|            51.92|2018|\n",
      "|123454864|   60060|   Wilfred|   Kaufman|         25|4210653345466468|123454864|  7|    5|         26934|         Grocery|             3.55|2018|\n",
      "|123454373|   60060|    Aurora|     Kline|        119|4210653379545814|123454373|  7|    5|         29526|             Gas|            53.95|2018|\n",
      "|123454864|   60060|   Wilfred|   Kaufman|        118|4210653345466468|123454864|  6|    5|         26968|           Bills|            10.26|2018|\n",
      "|123456866|   60060|     Kitty|Hutchinson|        170|4210653330692448|123456866|  6|    5|         16515|         Grocery|            10.69|2018|\n",
      "|123453476|   60060|     Micah|    Snyder|         12|4210653390771787|123453476|  5|    5|         34677|           Bills|            29.28|2018|\n",
      "+---------+--------+----------+----------+-----------+----------------+---------+---+-----+--------------+----------------+-----------------+----+\n",
      "only showing top 20 rows\n",
      "\n"
     ]
    }
   ],
   "source": [
    "zipcode = input(\"input 5 digit zipcode : \")   #60060 30024  \n",
    "year = input(\"input year :\")      #2018\n",
    "month = input(\"input month :\")    #5\n",
    "result = spark.sql(\"SELECT b.SSN\\\n",
    "                ,b.CUST_ZIP\\\n",
    "                ,b.FIRST_NAME\\\n",
    "                ,b.LAST_NAME\\\n",
    "                ,a.*\\\n",
    "                 from credit a left join customer b on a.cust_ssn = b.ssn\\\n",
    "                 where b.cust_zip = {} and a.year = {}  and a.month = {}\\\n",
    "                 order by a.day desc\".format(zipcode,year,month))\n",
    "result.show()"
   ]
  },
  {
   "cell_type": "markdown",
   "id": "aa070c81",
   "metadata": {},
   "source": [
    "2)    Used to display the number and total values of transactions for a given type."
   ]
  },
  {
   "cell_type": "code",
   "execution_count": 18,
   "id": "b0003b6c",
   "metadata": {},
   "outputs": [
    {
     "name": "stdout",
     "output_type": "stream",
     "text": [
      "+----------------+\n",
      "|transaction_type|\n",
      "+----------------+\n",
      "|       Education|\n",
      "|   Entertainment|\n",
      "|      Healthcare|\n",
      "|         Grocery|\n",
      "|            Test|\n",
      "|             Gas|\n",
      "|           Bills|\n",
      "+----------------+\n",
      "\n",
      "Insert a type of transaction \n",
      " :Entertainment\n",
      "+------+-----------+\n",
      "|number|total_value|\n",
      "+------+-----------+\n",
      "|  6635|   338950.1|\n",
      "+------+-----------+\n",
      "\n"
     ]
    }
   ],
   "source": [
    "#display transaction types\n",
    "spark.sql(\"select distinct(transaction_type) \\\n",
    "            from credit\").show()\n",
    "#display user input\n",
    "trans_type = input(\"Insert a type of transaction \\n :\" )\n",
    "\n",
    "given_type_val= spark.sql(\"select count(transaction_type) as number \\\n",
    "                        ,round(sum(TRANSACTION_VALUE),2) as total_value from credit where transaction_type = '{}'\".format(trans_type))\n",
    "given_type_val.show()"
   ]
  },
  {
   "cell_type": "markdown",
   "id": "2b76ef92",
   "metadata": {},
   "source": [
    "3)    Used to display the number and total values of transactions for branches in a given state."
   ]
  },
  {
   "cell_type": "code",
   "execution_count": 25,
   "id": "8834f592",
   "metadata": {},
   "outputs": [
    {
     "name": "stdout",
     "output_type": "stream",
     "text": [
      "+----------+\n",
      "|cust_state|\n",
      "+----------+\n",
      "|        SC|\n",
      "|        MN|\n",
      "|        NJ|\n",
      "|        VA|\n",
      "|        KY|\n",
      "|        MI|\n",
      "|        WI|\n",
      "|        CA|\n",
      "|        CT|\n",
      "|        MT|\n",
      "|        NC|\n",
      "|        MD|\n",
      "|        IL|\n",
      "|        WA|\n",
      "|        MS|\n",
      "|        AL|\n",
      "|        IN|\n",
      "|        OH|\n",
      "|        IA|\n",
      "|        PA|\n",
      "+----------+\n",
      "only showing top 20 rows\n",
      "\n",
      "Input a selected state \n",
      " :MN\n",
      "+-----------+------------+-----------+\n",
      "|branch_code|trans_number|total_value|\n",
      "+-----------+------------+-----------+\n",
      "|          1|          10|     501.56|\n",
      "|          2|           8|     376.64|\n",
      "|          3|          10|     528.31|\n",
      "|          4|          13|      738.9|\n",
      "|          5|          10|     579.36|\n",
      "|          7|          11|     612.85|\n",
      "|          8|          17|     930.15|\n",
      "|          9|           9|     417.51|\n",
      "|         10|          11|     496.75|\n",
      "|         11|           8|     347.21|\n",
      "|         12|           9|     597.29|\n",
      "|         14|           5|     352.39|\n",
      "|         15|          10|     365.34|\n",
      "|         16|          13|     601.15|\n",
      "|         17|          14|     644.24|\n",
      "|         18|          13|     824.56|\n",
      "|         19|           8|     487.82|\n",
      "|         20|          12|     649.73|\n",
      "|         21|           8|     280.77|\n",
      "|         22|          18|     843.65|\n",
      "+-----------+------------+-----------+\n",
      "only showing top 20 rows\n",
      "\n"
     ]
    }
   ],
   "source": [
    "#display states\n",
    "spark.sql(\"select distinct(cust_state) from customer \\\n",
    "            \").show()\n",
    "#display user input\n",
    "states_selected = input(\"Input a selected state \\n :\" )\n",
    "given_state_val = spark.sql(\"select b.branch_code as branch_code \\\n",
    "                            , count(b.transaction_id) as trans_number \\\n",
    "                            , round(sum(transaction_value),2) as total_value \\\n",
    "                            from customer a left join credit b on a.SSN = b.CUST_SSN \\\n",
    "                            where a.cust_state = '{}'\\\n",
    "                            group by b.branch_code\\\n",
    "                            order by b.branch_code\".format(states_selected))\n",
    "given_state_val.show()"
   ]
  },
  {
   "cell_type": "markdown",
   "id": "91735556",
   "metadata": {},
   "source": [
    "#### Req-2.2 Customer Details\n"
   ]
  },
  {
   "cell_type": "markdown",
   "id": "fb3457b6",
   "metadata": {},
   "source": [
    "1) Used to check the existing account details of a customer."
   ]
  },
  {
   "cell_type": "code",
   "execution_count": null,
   "id": "17064ea7",
   "metadata": {},
   "outputs": [],
   "source": [
    "# 123456100 \n",
    "# Alec Hooper"
   ]
  },
  {
   "cell_type": "code",
   "execution_count": 185,
   "id": "71dc0a2d",
   "metadata": {},
   "outputs": [
    {
     "name": "stdout",
     "output_type": "stream",
     "text": [
      "input customer's first name : Alec\n",
      "input customer's last name : Hooper\n",
      "input customer's SSN : 123456100\n"
     ]
    }
   ],
   "source": [
    "#input customer firstname, lastname,customer phone#\n",
    "cust_fname = input(\"input customer's first name : \")\n",
    "cust_lname = input(\"input customer's last name : \")\n",
    "cust_ssn = input(\"input customer's SSN : \")\n",
    "result = spark.sql(\"select * from customer \\\n",
    "            where first_name = '{}' and \\\n",
    "                  last_name = '{}' and \\\n",
    "                   SSN = {} \\\n",
    "                 \".format(cust_fname, cust_lname,cust_ssn))\n"
   ]
  },
  {
   "cell_type": "code",
   "execution_count": 186,
   "id": "e32000e6",
   "metadata": {},
   "outputs": [
    {
     "name": "stdout",
     "output_type": "stream",
     "text": [
      "+------+----------------+---------+-------------+-------------------+----------+----------+--------+----------+---------+--------------------+-----------+---------+-----------------+\n",
      "|APT_NO|  CREDIT_CARD_NO|CUST_CITY| CUST_COUNTRY|         CUST_EMAIL|CUST_PHONE|CUST_STATE|CUST_ZIP|FIRST_NAME|LAST_NAME|        LAST_UPDATED|MIDDLE_NAME|      SSN|      STREET_NAME|\n",
      "+------+----------------+---------+-------------+-------------------+----------+----------+--------+----------+---------+--------------------+-----------+---------+-----------------+\n",
      "|   656|4210653310061055|  Natchez|United States|AHooper@example.com|   1237818|        MS|   39120|      Alec|   Hooper|2018-04-21T12:49:...|         Wm|123456100|Main Street North|\n",
      "+------+----------------+---------+-------------+-------------------+----------+----------+--------+----------+---------+--------------------+-----------+---------+-----------------+\n",
      "\n"
     ]
    }
   ],
   "source": [
    "if result.count() == 0 :\n",
    "    print(\"There is no account records of the customer, {} {}\".format(cust_fname, cust_lname))\n",
    "else :\n",
    "    result.show()"
   ]
  },
  {
   "cell_type": "code",
   "execution_count": 52,
   "id": "37184e82",
   "metadata": {},
   "outputs": [
    {
     "name": "stdout",
     "output_type": "stream",
     "text": [
      "['APT_NO', 'CREDIT_CARD_NO', 'CUST_CITY', 'CUST_COUNTRY', 'CUST_EMAIL', 'CUST_PHONE', 'CUST_STATE', 'CUST_ZIP', 'FIRST_NAME', 'LAST_NAME', 'LAST_UPDATED', 'MIDDLE_NAME', 'SSN', 'STREET_NAME']\n",
      "select columns to modify distinguished by commas : ex.CUST_EMAIL, CUST_PHONE, LAST_NAME CUST_EMAIL, CUST_PHONE, LAST_NAME\n"
     ]
    }
   ],
   "source": [
    "print(customer.columns)\n",
    "col = input(\"select columns to modify distinguished by commas : ex.CUST_EMAIL, CUST_PHONE, LAST_NAME \")\n"
   ]
  },
  {
   "cell_type": "code",
   "execution_count": 62,
   "id": "46426c21",
   "metadata": {},
   "outputs": [],
   "source": [
    "col_list = list(map(lambda x : x.strip(), col.split(',') ))\n",
    "col_list"
   ]
  },
  {
   "cell_type": "code",
   "execution_count": 85,
   "id": "a551fee4",
   "metadata": {},
   "outputs": [
    {
     "name": "stdout",
     "output_type": "stream",
     "text": [
      "Insert CUST_EMAIL values to update: lsunnyl89@gmail.com\n",
      "Insert CUST_PHONE values to update: 1234567\n",
      "Insert LAST_NAME values to update: Lee\n"
     ]
    }
   ],
   "source": [
    "key_value = {}\n",
    "for column in col_list:\n",
    "    key_value[column] = input(\"Insert {} values to update: \".format(column))\n",
    "\n"
   ]
  },
  {
   "cell_type": "code",
   "execution_count": 130,
   "id": "4708b52d",
   "metadata": {},
   "outputs": [],
   "source": [
    "# update_condition = ''\n",
    "# for key in key_value:\n",
    "#     update_condition += \" {} = '{}',\".format(key, key_value[key])\n",
    "# update_condition = update_condition[:-1]\n",
    "# spark.sql(\"UPDATE CUSTOMER \\\n",
    "#            SET {} \\\n",
    "#            WHERE SSN = '{}'\".format(update_condition, cust_ssn))\n",
    "# update statement is not working\n",
    "\n",
    "# import pyspark.sql.functions as F\n",
    "\n",
    "# data = [key_value]\n",
    "# print(data)\n",
    "# df_data = spark.createDataFrame(data)\n",
    "# print(df_data.count())\n",
    "\n",
    "# for column in col_list:\n",
    "#     print(result[column])\n",
    "#     print(type(key_value[column]))\n",
    "#     result.withColumn(result[column], key_value[column]).show()\n",
    "\n",
    "# customer = spark.sql(\"    \\\n",
    "            \n",
    "#                     \")\n",
    "\n",
    "\n",
    "# df1.join(df2, df1.id == df2.id, \"left_outer\") \\\n",
    "#    .select(df1.id, df2.id, F.when(df2.value.isNull(), df1.value).otherwise(df2.value).alias(\"value\")))"
   ]
  },
  {
   "cell_type": "code",
   "execution_count": 171,
   "id": "74613d2c",
   "metadata": {},
   "outputs": [
    {
     "name": "stdout",
     "output_type": "stream",
     "text": [
      "<class 'dict'>\n",
      "<class 'str'>\n",
      "<class 'pyspark.sql.column.Column'>\n"
     ]
    },
    {
     "data": {
      "text/plain": [
       "'lsunnyl89@gmail.com'"
      ]
     },
     "execution_count": 171,
     "metadata": {},
     "output_type": "execute_result"
    }
   ],
   "source": [
    "print(type(key_value))\n",
    "print(type(str(key_value.items())))\n",
    "print(type(result[\"CUST_EMAIL\"]))\n",
    "key_value[\"CUST_EMAIL\"]"
   ]
  },
  {
   "cell_type": "code",
   "execution_count": 187,
   "id": "ce8af59c",
   "metadata": {},
   "outputs": [
    {
     "name": "stdout",
     "output_type": "stream",
     "text": [
      "CUST_EMAIL\n",
      "lsunnyl89@gmail.com\n",
      "CUST_PHONE\n",
      "1234567\n",
      "LAST_NAME\n",
      "Lee\n"
     ]
    }
   ],
   "source": [
    "#     ls = [{item:key_value[item]}]\n",
    "#     print(ls)\n",
    "#     df = spark.createDataFrame(ls)\n",
    "#     print(df)\n",
    "#    result[item] = key_value[item]  dataframe does not support item assignment\n",
    "\n",
    "for item in key_value :\n",
    "    print(item)\n",
    "    value = key_value[item]\n",
    "    print(value)\n",
    "    result = result.withColumn(item, lit(value))\n",
    "    \n",
    "\n",
    "# print(result)\n",
    "# df3 = df.withColumn(\"gender\", when(df.gender == \"M\",\"Male\") \\\n",
    "#       .when(df.gender == \"F\",\"Female\") \\"
   ]
  },
  {
   "cell_type": "code",
   "execution_count": 189,
   "id": "e9ac19cc",
   "metadata": {},
   "outputs": [
    {
     "name": "stdout",
     "output_type": "stream",
     "text": [
      "+------+----------------+---------+-------------+-------------------+----------+----------+--------+----------+---------+--------------------+-----------+---------+-----------------+\n",
      "|APT_NO|  CREDIT_CARD_NO|CUST_CITY| CUST_COUNTRY|         CUST_EMAIL|CUST_PHONE|CUST_STATE|CUST_ZIP|FIRST_NAME|LAST_NAME|        LAST_UPDATED|MIDDLE_NAME|      SSN|      STREET_NAME|\n",
      "+------+----------------+---------+-------------+-------------------+----------+----------+--------+----------+---------+--------------------+-----------+---------+-----------------+\n",
      "|   656|4210653310061055|  Natchez|United States|lsunnyl89@gmail.com|   1234567|        MS|   39120|      Alec|      Lee|2018-04-21T12:49:...|         Wm|123456100|Main Street North|\n",
      "+------+----------------+---------+-------------+-------------------+----------+----------+--------+----------+---------+--------------------+-----------+---------+-----------------+\n",
      "\n"
     ]
    }
   ],
   "source": [
    "result.show()"
   ]
  },
  {
   "cell_type": "markdown",
   "id": "f87abb32",
   "metadata": {},
   "source": [
    "3) Used to generate a monthly bill for a credit card number for a given month and year.\n"
   ]
  },
  {
   "cell_type": "code",
   "execution_count": 219,
   "id": "2491152e",
   "metadata": {},
   "outputs": [
    {
     "name": "stdout",
     "output_type": "stream",
     "text": [
      "Input a credit card number : 4210653311215039\n",
      "+-----------+----------------+---------+---+-----+--------------+----------------+-----------------+----+\n",
      "|BRANCH_CODE|  CREDIT_CARD_NO| CUST_SSN|DAY|MONTH|TRANSACTION_ID|TRANSACTION_TYPE|TRANSACTION_VALUE|YEAR|\n",
      "+-----------+----------------+---------+---+-----+--------------+----------------+-----------------+----+\n",
      "|         45|4210653311215039|123454537|  6|    6|         28169|           Bills|            17.61|2018|\n",
      "|         99|4210653311215039|123454537| 15|   11|         28170|         Grocery|             8.08|2018|\n",
      "|        170|4210653311215039|123454537| 24|    6|         28171|             Gas|            52.39|2018|\n",
      "|         90|4210653311215039|123454537| 28|   12|         28172|           Bills|            72.27|2018|\n",
      "|         58|4210653311215039|123454537| 27|   12|         28173|   Entertainment|            43.16|2018|\n",
      "+-----------+----------------+---------+---+-----+--------------+----------------+-----------------+----+\n",
      "only showing top 5 rows\n",
      "\n",
      "input a year for a monthly bill : 2018\n",
      "+-----------+----------------+---------+---+-----+--------------+----------------+-----------------+----+\n",
      "|BRANCH_CODE|  CREDIT_CARD_NO| CUST_SSN|DAY|MONTH|TRANSACTION_ID|TRANSACTION_TYPE|TRANSACTION_VALUE|YEAR|\n",
      "+-----------+----------------+---------+---+-----+--------------+----------------+-----------------+----+\n",
      "|         30|4210653311215039|123454537|  1|    6|         28178|            Test|            65.76|2018|\n",
      "|         31|4210653311215039|123454537|  1|    9|         28217|           Bills|            57.19|2018|\n",
      "|        166|4210653311215039|123454537|  1|   11|         28219|             Gas|            93.11|2018|\n",
      "|         11|4210653311215039|123454537|  1|    2|         28214|           Bills|             1.54|2018|\n",
      "|          9|4210653311215039|123454537|  2|   12|         28192|         Grocery|             6.43|2018|\n",
      "+-----------+----------------+---------+---+-----+--------------+----------------+-----------------+----+\n",
      "only showing top 5 rows\n",
      "\n",
      "input a month for a monthly bill : 2\n",
      " Monthly bill of 2018 - 2 : $62.31\n",
      "+-----------+----------------+---------+---+-----+--------------+----------------+-----------------+----+\n",
      "|BRANCH_CODE|  CREDIT_CARD_NO| CUST_SSN|DAY|MONTH|TRANSACTION_ID|TRANSACTION_TYPE|TRANSACTION_VALUE|YEAR|\n",
      "+-----------+----------------+---------+---+-----+--------------+----------------+-----------------+----+\n",
      "|         11|4210653311215039|123454537|  1|    2|         28214|           Bills|             1.54|2018|\n",
      "|        145|4210653311215039|123454537| 24|    2|         28175|         Grocery|            60.77|2018|\n",
      "+-----------+----------------+---------+---+-----+--------------+----------------+-----------------+----+\n",
      "\n"
     ]
    }
   ],
   "source": [
    "cc_number = input(\"Input a credit card number : \")\n",
    "# 4210653311215039\n",
    "spark.sql(\"select * from credit \\\n",
    "           where CREDIT_CARD_NO = '{}' \\\n",
    "           \".format(cc_number)\n",
    "           ).show(5)\n",
    "c_year = input(\"input a year for a monthly bill : \")\n",
    "\n",
    "spark.sql(\"select * from credit \\\n",
    "           where CREDIT_CARD_NO = '{}' \\\n",
    "           and year = '{}' \\\n",
    "           order by day \".format(cc_number, c_year)\n",
    "           ).show(5)\n",
    "\n",
    "c_month = input(\"input a month for a monthly bill : \")\n",
    "\n",
    "\n",
    "total = spark.sql(\"select round(sum(TRANSACTION_VALUE),2) as total_amount from credit \\\n",
    "           where CREDIT_CARD_NO = '{}' \\\n",
    "           and year = '{}' \\\n",
    "           and month = '{}' \\\n",
    "           \".format(cc_number, c_year, c_month)\n",
    "           )\n",
    "total_amount = total.collect()[0][0]\n",
    "print( \" Monthly bill of {} - {} : ${}\".format(c_year , c_month, total_amount))\n",
    "\n",
    "spark.sql(\"select * from credit \\\n",
    "           where CREDIT_CARD_NO = '{}' \\\n",
    "           and year = '{}' \\\n",
    "           and month = '{}' \\\n",
    "           order by day \".format(cc_number, c_year, c_month)\n",
    "           ).show()\n",
    "\n"
   ]
  },
  {
   "cell_type": "markdown",
   "id": "05e8c72f",
   "metadata": {},
   "source": [
    "### 4) Used to display the transactions made by a customer between two dates. Order by year, month, and day in descending order."
   ]
  },
  {
   "cell_type": "code",
   "execution_count": 234,
   "id": "baa3155d",
   "metadata": {},
   "outputs": [
    {
     "name": "stdout",
     "output_type": "stream",
     "text": [
      "date of the start day : 20180101\n",
      "date of the last day : 20181231\n",
      "customer's ssn : 123456629\n",
      "+-----------+----------------+---------+--------+--------------+----------------+-----------------+\n",
      "|BRANCH_CODE|      CUST_CC_NO| CUST_SSN|  TIMEID|TRANSACTION_ID|TRANSACTION_TYPE|TRANSACTION_VALUE|\n",
      "+-----------+----------------+---------+--------+--------------+----------------+-----------------+\n",
      "|         66|4210653368689760|123456629|20181228|         17930|       Education|            95.65|\n",
      "|        173|4210653368689760|123456629|20181227|         17864|           Bills|            12.69|\n",
      "|         22|4210653368689760|123456629|20181227|         17861|             Gas|            55.27|\n",
      "|          5|4210653368689760|123456629|20181220|         17879|            Test|            20.91|\n",
      "|        160|4210653368689760|123456629|20181213|         17842|            Test|             2.31|\n",
      "|         52|4210653368689760|123456629|20181212|         17870|       Education|            22.45|\n",
      "|         10|4210653368689760|123456629|20181211|         17867|      Healthcare|            66.14|\n",
      "|         50|4210653368689760|123456629|20181208|         17850|            Test|            53.02|\n",
      "|          9|4210653368689760|123456629|20181206|         17887|      Healthcare|            29.57|\n",
      "|         47|4210653368689760|123456629|20181125|         17904|         Grocery|            66.45|\n",
      "|         29|4210653368689760|123456629|20181123|         17907|   Entertainment|            65.18|\n",
      "|        175|4210653368689760|123456629|20181116|         17912|             Gas|             1.43|\n",
      "|          7|4210653368689760|123456629|20181107|         17855|       Education|            46.44|\n",
      "|         10|4210653368689760|123456629|20181102|         17894|         Grocery|             4.41|\n",
      "|          9|4210653368689760|123456629|20181101|         17852|            Test|            28.52|\n",
      "|         42|4210653368689760|123456629|20181026|         17862|            Test|            69.21|\n",
      "|        158|4210653368689760|123456629|20181025|         17900|             Gas|            66.56|\n",
      "|        158|4210653368689760|123456629|20181022|         17917|         Grocery|            93.92|\n",
      "|        103|4210653368689760|123456629|20181014|         17857|            Test|            29.01|\n",
      "|         29|4210653368689760|123456629|20181011|         17866|      Healthcare|            78.65|\n",
      "+-----------+----------------+---------+--------+--------------+----------------+-----------------+\n",
      "only showing top 20 rows\n",
      "\n"
     ]
    }
   ],
   "source": [
    "start_day  = input(\"date of the start day : \") #20180101\n",
    "end_day = input(\"date of the last day : \") #20181231\n",
    "cust_ssn = input(\"customer's ssn : \") #123456629\n",
    "\n",
    "spark.sql(\"select * from tr_credit \\\n",
    "          where TIMEID between '{}' and '{}' \\\n",
    "          and cust_ssn = {} \\\n",
    "          order by timeid desc\".format(start_day,end_day,cust_ssn) ).show()"
   ]
  },
  {
   "cell_type": "markdown",
   "id": "4aeed6e0",
   "metadata": {},
   "source": [
    "## 3 - Functional Requirements - Data analysis and Visualization"
   ]
  },
  {
   "cell_type": "markdown",
   "id": "231b7dde",
   "metadata": {},
   "source": [
    "### 3.1 Find and plot transactions, showing which transaction type occurs most often.\n"
   ]
  },
  {
   "cell_type": "code",
   "execution_count": 15,
   "id": "c63ca8ff",
   "metadata": {},
   "outputs": [
    {
     "data": {
      "text/html": [
       "<div>\n",
       "<style scoped>\n",
       "    .dataframe tbody tr th:only-of-type {\n",
       "        vertical-align: middle;\n",
       "    }\n",
       "\n",
       "    .dataframe tbody tr th {\n",
       "        vertical-align: top;\n",
       "    }\n",
       "\n",
       "    .dataframe thead th {\n",
       "        text-align: right;\n",
       "    }\n",
       "</style>\n",
       "<table border=\"1\" class=\"dataframe\">\n",
       "  <thead>\n",
       "    <tr style=\"text-align: right;\">\n",
       "      <th></th>\n",
       "      <th>BRANCH_CODE</th>\n",
       "      <th>CREDIT_CARD_NO</th>\n",
       "      <th>CUST_SSN</th>\n",
       "      <th>DAY</th>\n",
       "      <th>MONTH</th>\n",
       "      <th>TRANSACTION_ID</th>\n",
       "      <th>TRANSACTION_TYPE</th>\n",
       "      <th>TRANSACTION_VALUE</th>\n",
       "      <th>YEAR</th>\n",
       "    </tr>\n",
       "  </thead>\n",
       "  <tbody>\n",
       "    <tr>\n",
       "      <th>0</th>\n",
       "      <td>114</td>\n",
       "      <td>4210653349028689</td>\n",
       "      <td>123459988</td>\n",
       "      <td>14</td>\n",
       "      <td>2</td>\n",
       "      <td>1</td>\n",
       "      <td>Education</td>\n",
       "      <td>78.90</td>\n",
       "      <td>2018</td>\n",
       "    </tr>\n",
       "    <tr>\n",
       "      <th>1</th>\n",
       "      <td>35</td>\n",
       "      <td>4210653349028689</td>\n",
       "      <td>123459988</td>\n",
       "      <td>20</td>\n",
       "      <td>3</td>\n",
       "      <td>2</td>\n",
       "      <td>Entertainment</td>\n",
       "      <td>14.24</td>\n",
       "      <td>2018</td>\n",
       "    </tr>\n",
       "    <tr>\n",
       "      <th>2</th>\n",
       "      <td>160</td>\n",
       "      <td>4210653349028689</td>\n",
       "      <td>123459988</td>\n",
       "      <td>8</td>\n",
       "      <td>7</td>\n",
       "      <td>3</td>\n",
       "      <td>Grocery</td>\n",
       "      <td>56.70</td>\n",
       "      <td>2018</td>\n",
       "    </tr>\n",
       "    <tr>\n",
       "      <th>3</th>\n",
       "      <td>114</td>\n",
       "      <td>4210653349028689</td>\n",
       "      <td>123459988</td>\n",
       "      <td>19</td>\n",
       "      <td>4</td>\n",
       "      <td>4</td>\n",
       "      <td>Entertainment</td>\n",
       "      <td>59.73</td>\n",
       "      <td>2018</td>\n",
       "    </tr>\n",
       "    <tr>\n",
       "      <th>4</th>\n",
       "      <td>93</td>\n",
       "      <td>4210653349028689</td>\n",
       "      <td>123459988</td>\n",
       "      <td>10</td>\n",
       "      <td>10</td>\n",
       "      <td>5</td>\n",
       "      <td>Gas</td>\n",
       "      <td>3.59</td>\n",
       "      <td>2018</td>\n",
       "    </tr>\n",
       "  </tbody>\n",
       "</table>\n",
       "</div>"
      ],
      "text/plain": [
       "   BRANCH_CODE    CREDIT_CARD_NO   CUST_SSN  DAY  MONTH  TRANSACTION_ID  \\\n",
       "0          114  4210653349028689  123459988   14      2               1   \n",
       "1           35  4210653349028689  123459988   20      3               2   \n",
       "2          160  4210653349028689  123459988    8      7               3   \n",
       "3          114  4210653349028689  123459988   19      4               4   \n",
       "4           93  4210653349028689  123459988   10     10               5   \n",
       "\n",
       "  TRANSACTION_TYPE  TRANSACTION_VALUE  YEAR  \n",
       "0        Education              78.90  2018  \n",
       "1    Entertainment              14.24  2018  \n",
       "2          Grocery              56.70  2018  \n",
       "3    Entertainment              59.73  2018  \n",
       "4              Gas               3.59  2018  "
      ]
     },
     "execution_count": 15,
     "metadata": {},
     "output_type": "execute_result"
    }
   ],
   "source": [
    "pd_credit = credit.toPandas()\n",
    "pd_credit.head()"
   ]
  },
  {
   "cell_type": "code",
   "execution_count": 38,
   "id": "7df00536",
   "metadata": {},
   "outputs": [],
   "source": [
    "import pandas as pd\n",
    "import matplotlib.pyplot as plt\n",
    "import seaborn as sns"
   ]
  },
  {
   "cell_type": "code",
   "execution_count": 24,
   "id": "77daa9d7",
   "metadata": {},
   "outputs": [
    {
     "data": {
      "text/plain": [
       "BRANCH_CODE            int64\n",
       "CREDIT_CARD_NO        object\n",
       "CUST_SSN               int64\n",
       "DAY                    int64\n",
       "MONTH                  int64\n",
       "TRANSACTION_ID         int64\n",
       "TRANSACTION_TYPE      object\n",
       "TRANSACTION_VALUE    float64\n",
       "YEAR                   int64\n",
       "dtype: object"
      ]
     },
     "execution_count": 24,
     "metadata": {},
     "output_type": "execute_result"
    }
   ],
   "source": [
    "pd_credit.dtypes"
   ]
  },
  {
   "cell_type": "code",
   "execution_count": 37,
   "id": "cd3ea127",
   "metadata": {},
   "outputs": [
    {
     "name": "stdout",
     "output_type": "stream",
     "text": [
      "                  TRANSACTION_ID\n",
      "TRANSACTION_TYPE                \n",
      "Bills                       6861\n",
      "Healthcare                  6723\n",
      "Test                        6683\n",
      "Education                   6638\n",
      "Entertainment               6635\n",
      "Gas                         6605\n",
      "Grocery                     6549\n"
     ]
    }
   ],
   "source": [
    "graph1 = pd_credit.groupby('TRANSACTION_TYPE').count()['TRANSACTION_ID'].to_frame().sort_values(by='TRANSACTION_ID',ascending=False)\n",
    "print(graph1)\n"
   ]
  },
  {
   "cell_type": "code",
   "execution_count": 80,
   "id": "57a54173",
   "metadata": {},
   "outputs": [
    {
     "data": {
      "text/plain": [
       "Text(0.5, 1.0, 'Number of Transactions of the each transaction type')"
      ]
     },
     "execution_count": 80,
     "metadata": {},
     "output_type": "execute_result"
    },
    {
     "data": {
      "image/png": "[encoded data removed]",
      "text/plain": [
       "<Figure size 720x720 with 1 Axes>"
      ]
     },
     "metadata": {
      "needs_background": "light"
     },
     "output_type": "display_data"
    }
   ],
   "source": [
    "graph1.plot(kind='bar', figsize=(10,10 ), rot=0)\n",
    "\n",
    "plt.xlabel('Transaction Type')\n",
    "plt.ylabel('Number of Transactions')\n",
    "plt.title('Number of Transactions of the each transaction type')"
   ]
  },
  {
   "cell_type": "markdown",
   "id": "397f7189",
   "metadata": {},
   "source": [
    "### 3.2  Find and plot states, showing which state has the highest number of customers."
   ]
  },
  {
   "cell_type": "code",
   "execution_count": 41,
   "id": "216fa8e3",
   "metadata": {},
   "outputs": [
    {
     "data": {
      "text/html": [
       "<div>\n",
       "<style scoped>\n",
       "    .dataframe tbody tr th:only-of-type {\n",
       "        vertical-align: middle;\n",
       "    }\n",
       "\n",
       "    .dataframe tbody tr th {\n",
       "        vertical-align: top;\n",
       "    }\n",
       "\n",
       "    .dataframe thead th {\n",
       "        text-align: right;\n",
       "    }\n",
       "</style>\n",
       "<table border=\"1\" class=\"dataframe\">\n",
       "  <thead>\n",
       "    <tr style=\"text-align: right;\">\n",
       "      <th></th>\n",
       "      <th>APT_NO</th>\n",
       "      <th>CREDIT_CARD_NO</th>\n",
       "      <th>CUST_CITY</th>\n",
       "      <th>CUST_COUNTRY</th>\n",
       "      <th>CUST_EMAIL</th>\n",
       "      <th>CUST_PHONE</th>\n",
       "      <th>CUST_STATE</th>\n",
       "      <th>CUST_ZIP</th>\n",
       "      <th>FIRST_NAME</th>\n",
       "      <th>LAST_NAME</th>\n",
       "      <th>LAST_UPDATED</th>\n",
       "      <th>MIDDLE_NAME</th>\n",
       "      <th>SSN</th>\n",
       "      <th>STREET_NAME</th>\n",
       "    </tr>\n",
       "  </thead>\n",
       "  <tbody>\n",
       "    <tr>\n",
       "      <th>0</th>\n",
       "      <td>656</td>\n",
       "      <td>4210653310061055</td>\n",
       "      <td>Natchez</td>\n",
       "      <td>United States</td>\n",
       "      <td>AHooper@example.com</td>\n",
       "      <td>1237818</td>\n",
       "      <td>MS</td>\n",
       "      <td>39120</td>\n",
       "      <td>Alec</td>\n",
       "      <td>Hooper</td>\n",
       "      <td>2018-04-21T12:49:02.000-04:00</td>\n",
       "      <td>Wm</td>\n",
       "      <td>123456100</td>\n",
       "      <td>Main Street North</td>\n",
       "    </tr>\n",
       "    <tr>\n",
       "      <th>1</th>\n",
       "      <td>829</td>\n",
       "      <td>4210653310102868</td>\n",
       "      <td>Wethersfield</td>\n",
       "      <td>United States</td>\n",
       "      <td>EHolman@example.com</td>\n",
       "      <td>1238933</td>\n",
       "      <td>CT</td>\n",
       "      <td>06109</td>\n",
       "      <td>Etta</td>\n",
       "      <td>Holman</td>\n",
       "      <td>2018-04-21T12:49:02.000-04:00</td>\n",
       "      <td>Brendan</td>\n",
       "      <td>123453023</td>\n",
       "      <td>Redwood Drive</td>\n",
       "    </tr>\n",
       "    <tr>\n",
       "      <th>2</th>\n",
       "      <td>683</td>\n",
       "      <td>4210653310116272</td>\n",
       "      <td>Huntley</td>\n",
       "      <td>United States</td>\n",
       "      <td>WDunham@example.com</td>\n",
       "      <td>1243018</td>\n",
       "      <td>IL</td>\n",
       "      <td>60142</td>\n",
       "      <td>Wilber</td>\n",
       "      <td>Dunham</td>\n",
       "      <td>2018-04-21T12:49:02.000-04:00</td>\n",
       "      <td>Ezequiel</td>\n",
       "      <td>123454487</td>\n",
       "      <td>12th Street East</td>\n",
       "    </tr>\n",
       "    <tr>\n",
       "      <th>3</th>\n",
       "      <td>253</td>\n",
       "      <td>4210653310195948</td>\n",
       "      <td>NewBerlin</td>\n",
       "      <td>United States</td>\n",
       "      <td>EHardy@example.com</td>\n",
       "      <td>1243215</td>\n",
       "      <td>WI</td>\n",
       "      <td>53151</td>\n",
       "      <td>Eugenio</td>\n",
       "      <td>Hardy</td>\n",
       "      <td>2018-04-21T12:49:02.000-04:00</td>\n",
       "      <td>Trina</td>\n",
       "      <td>123459758</td>\n",
       "      <td>Country Club Road</td>\n",
       "    </tr>\n",
       "    <tr>\n",
       "      <th>4</th>\n",
       "      <td>301</td>\n",
       "      <td>4210653310356919</td>\n",
       "      <td>ElPaso</td>\n",
       "      <td>United States</td>\n",
       "      <td>WAyers@example.com</td>\n",
       "      <td>1242074</td>\n",
       "      <td>TX</td>\n",
       "      <td>79930</td>\n",
       "      <td>Wilfred</td>\n",
       "      <td>Ayers</td>\n",
       "      <td>2018-04-21T12:49:02.000-04:00</td>\n",
       "      <td>May</td>\n",
       "      <td>123454431</td>\n",
       "      <td>Madison Street</td>\n",
       "    </tr>\n",
       "  </tbody>\n",
       "</table>\n",
       "</div>"
      ],
      "text/plain": [
       "  APT_NO    CREDIT_CARD_NO     CUST_CITY   CUST_COUNTRY           CUST_EMAIL  \\\n",
       "0    656  4210653310061055       Natchez  United States  AHooper@example.com   \n",
       "1    829  4210653310102868  Wethersfield  United States  EHolman@example.com   \n",
       "2    683  4210653310116272       Huntley  United States  WDunham@example.com   \n",
       "3    253  4210653310195948     NewBerlin  United States   EHardy@example.com   \n",
       "4    301  4210653310356919        ElPaso  United States   WAyers@example.com   \n",
       "\n",
       "   CUST_PHONE CUST_STATE CUST_ZIP FIRST_NAME LAST_NAME  \\\n",
       "0     1237818         MS    39120       Alec    Hooper   \n",
       "1     1238933         CT    06109       Etta    Holman   \n",
       "2     1243018         IL    60142     Wilber    Dunham   \n",
       "3     1243215         WI    53151    Eugenio     Hardy   \n",
       "4     1242074         TX    79930    Wilfred     Ayers   \n",
       "\n",
       "                    LAST_UPDATED MIDDLE_NAME        SSN        STREET_NAME  \n",
       "0  2018-04-21T12:49:02.000-04:00          Wm  123456100  Main Street North  \n",
       "1  2018-04-21T12:49:02.000-04:00     Brendan  123453023      Redwood Drive  \n",
       "2  2018-04-21T12:49:02.000-04:00    Ezequiel  123454487   12th Street East  \n",
       "3  2018-04-21T12:49:02.000-04:00       Trina  123459758  Country Club Road  \n",
       "4  2018-04-21T12:49:02.000-04:00         May  123454431     Madison Street  "
      ]
     },
     "execution_count": 41,
     "metadata": {},
     "output_type": "execute_result"
    }
   ],
   "source": [
    "pd_customer = customer.toPandas()\n",
    "pd_customer.head()"
   ]
  },
  {
   "cell_type": "code",
   "execution_count": 45,
   "id": "c8e4fe93",
   "metadata": {},
   "outputs": [
    {
     "name": "stdout",
     "output_type": "stream",
     "text": [
      "            SSN\n",
      "CUST_STATE     \n",
      "NY           96\n",
      "GA           73\n",
      "PA           72\n",
      "FL           64\n",
      "IL           58\n",
      "NJ           53\n",
      "MD           50\n",
      "CA           45\n",
      "MI           44\n",
      "OH           44\n",
      "VA           39\n",
      "NC           37\n",
      "TX           33\n",
      "MA           33\n",
      "SC           30\n",
      "WI           29\n",
      "MN           28\n",
      "MS           24\n",
      "IA           21\n",
      "KY           17\n",
      "WA           16\n",
      "CT           14\n",
      "IN           13\n",
      "MT            9\n",
      "AR            5\n",
      "AL            5\n"
     ]
    }
   ],
   "source": [
    "graph2 = pd_customer.groupby('CUST_STATE').count()['SSN'].to_frame().sort_values('SSN', ascending = False)\n",
    "print(graph2)"
   ]
  },
  {
   "cell_type": "code",
   "execution_count": 77,
   "id": "d3437184",
   "metadata": {},
   "outputs": [
    {
     "data": {
      "text/plain": [
       "Text(0, 0.5, 'Number of Customers')"
      ]
     },
     "execution_count": 77,
     "metadata": {},
     "output_type": "execute_result"
    },
    {
     "data": {
      "image/png": "[encoded data removed]",
      "text/plain": [
       "<Figure size 1440x720 with 1 Axes>"
      ]
     },
     "metadata": {
      "needs_background": "light"
     },
     "output_type": "display_data"
    }
   ],
   "source": [
    "graph2.plot(kind = 'bar' , figsize = (20,10) ,rot=0)\n",
    "plt.xlabel(\"STATES\")\n",
    "plt.ylabel(\"Number of Customers\")"
   ]
  },
  {
   "cell_type": "code",
   "execution_count": 60,
   "id": "ba36afb4",
   "metadata": {},
   "outputs": [
    {
     "data": {
      "text/html": [
       "<div>\n",
       "<style scoped>\n",
       "    .dataframe tbody tr th:only-of-type {\n",
       "        vertical-align: middle;\n",
       "    }\n",
       "\n",
       "    .dataframe tbody tr th {\n",
       "        vertical-align: top;\n",
       "    }\n",
       "\n",
       "    .dataframe thead th {\n",
       "        text-align: right;\n",
       "    }\n",
       "</style>\n",
       "<table border=\"1\" class=\"dataframe\">\n",
       "  <thead>\n",
       "    <tr style=\"text-align: right;\">\n",
       "      <th></th>\n",
       "      <th>BRANCH_CODE</th>\n",
       "      <th>CREDIT_CARD_NO</th>\n",
       "      <th>CUST_SSN</th>\n",
       "      <th>DAY</th>\n",
       "      <th>MONTH</th>\n",
       "      <th>TRANSACTION_ID</th>\n",
       "      <th>TRANSACTION_TYPE</th>\n",
       "      <th>TRANSACTION_VALUE</th>\n",
       "      <th>YEAR</th>\n",
       "    </tr>\n",
       "  </thead>\n",
       "  <tbody>\n",
       "    <tr>\n",
       "      <th>0</th>\n",
       "      <td>114</td>\n",
       "      <td>4210653349028689</td>\n",
       "      <td>123459988</td>\n",
       "      <td>14</td>\n",
       "      <td>2</td>\n",
       "      <td>1</td>\n",
       "      <td>Education</td>\n",
       "      <td>78.90</td>\n",
       "      <td>2018</td>\n",
       "    </tr>\n",
       "    <tr>\n",
       "      <th>1</th>\n",
       "      <td>35</td>\n",
       "      <td>4210653349028689</td>\n",
       "      <td>123459988</td>\n",
       "      <td>20</td>\n",
       "      <td>3</td>\n",
       "      <td>2</td>\n",
       "      <td>Entertainment</td>\n",
       "      <td>14.24</td>\n",
       "      <td>2018</td>\n",
       "    </tr>\n",
       "    <tr>\n",
       "      <th>2</th>\n",
       "      <td>160</td>\n",
       "      <td>4210653349028689</td>\n",
       "      <td>123459988</td>\n",
       "      <td>8</td>\n",
       "      <td>7</td>\n",
       "      <td>3</td>\n",
       "      <td>Grocery</td>\n",
       "      <td>56.70</td>\n",
       "      <td>2018</td>\n",
       "    </tr>\n",
       "    <tr>\n",
       "      <th>3</th>\n",
       "      <td>114</td>\n",
       "      <td>4210653349028689</td>\n",
       "      <td>123459988</td>\n",
       "      <td>19</td>\n",
       "      <td>4</td>\n",
       "      <td>4</td>\n",
       "      <td>Entertainment</td>\n",
       "      <td>59.73</td>\n",
       "      <td>2018</td>\n",
       "    </tr>\n",
       "    <tr>\n",
       "      <th>4</th>\n",
       "      <td>93</td>\n",
       "      <td>4210653349028689</td>\n",
       "      <td>123459988</td>\n",
       "      <td>10</td>\n",
       "      <td>10</td>\n",
       "      <td>5</td>\n",
       "      <td>Gas</td>\n",
       "      <td>3.59</td>\n",
       "      <td>2018</td>\n",
       "    </tr>\n",
       "  </tbody>\n",
       "</table>\n",
       "</div>"
      ],
      "text/plain": [
       "   BRANCH_CODE    CREDIT_CARD_NO   CUST_SSN  DAY  MONTH  TRANSACTION_ID  \\\n",
       "0          114  4210653349028689  123459988   14      2               1   \n",
       "1           35  4210653349028689  123459988   20      3               2   \n",
       "2          160  4210653349028689  123459988    8      7               3   \n",
       "3          114  4210653349028689  123459988   19      4               4   \n",
       "4           93  4210653349028689  123459988   10     10               5   \n",
       "\n",
       "  TRANSACTION_TYPE  TRANSACTION_VALUE  YEAR  \n",
       "0        Education              78.90  2018  \n",
       "1    Entertainment              14.24  2018  \n",
       "2          Grocery              56.70  2018  \n",
       "3    Entertainment              59.73  2018  \n",
       "4              Gas               3.59  2018  "
      ]
     },
     "execution_count": 60,
     "metadata": {},
     "output_type": "execute_result"
    }
   ],
   "source": [
    "pd_credit.head()"
   ]
  },
  {
   "cell_type": "markdown",
   "id": "57a36c2c",
   "metadata": {},
   "source": [
    "### 3.3 Find and plot the sum of all transactions for each customer, and which customer has the highest transaction amount. (First 20) hint(use CUST_SSN).\n",
    "\n"
   ]
  },
  {
   "cell_type": "code",
   "execution_count": 68,
   "id": "416fc74c",
   "metadata": {},
   "outputs": [
    {
     "data": {
      "text/html": [
       "<div>\n",
       "<style scoped>\n",
       "    .dataframe tbody tr th:only-of-type {\n",
       "        vertical-align: middle;\n",
       "    }\n",
       "\n",
       "    .dataframe tbody tr th {\n",
       "        vertical-align: top;\n",
       "    }\n",
       "\n",
       "    .dataframe thead th {\n",
       "        text-align: right;\n",
       "    }\n",
       "</style>\n",
       "<table border=\"1\" class=\"dataframe\">\n",
       "  <thead>\n",
       "    <tr style=\"text-align: right;\">\n",
       "      <th></th>\n",
       "      <th>TRANSACTION_VALUE</th>\n",
       "    </tr>\n",
       "    <tr>\n",
       "      <th>CUST_SSN</th>\n",
       "      <th></th>\n",
       "    </tr>\n",
       "  </thead>\n",
       "  <tbody>\n",
       "    <tr>\n",
       "      <th>123451125</th>\n",
       "      <td>5633.07</td>\n",
       "    </tr>\n",
       "    <tr>\n",
       "      <th>123452783</th>\n",
       "      <td>5548.14</td>\n",
       "    </tr>\n",
       "    <tr>\n",
       "      <th>123453486</th>\n",
       "      <td>5476.08</td>\n",
       "    </tr>\n",
       "    <tr>\n",
       "      <th>123458668</th>\n",
       "      <td>5314.97</td>\n",
       "    </tr>\n",
       "    <tr>\n",
       "      <th>123456678</th>\n",
       "      <td>5261.03</td>\n",
       "    </tr>\n",
       "    <tr>\n",
       "      <th>123452026</th>\n",
       "      <td>5241.18</td>\n",
       "    </tr>\n",
       "    <tr>\n",
       "      <th>123452518</th>\n",
       "      <td>5223.96</td>\n",
       "    </tr>\n",
       "    <tr>\n",
       "      <th>123454933</th>\n",
       "      <td>5203.08</td>\n",
       "    </tr>\n",
       "    <tr>\n",
       "      <th>123457547</th>\n",
       "      <td>5149.75</td>\n",
       "    </tr>\n",
       "    <tr>\n",
       "      <th>123452085</th>\n",
       "      <td>5133.29</td>\n",
       "    </tr>\n",
       "    <tr>\n",
       "      <th>123455898</th>\n",
       "      <td>5062.33</td>\n",
       "    </tr>\n",
       "    <tr>\n",
       "      <th>123456862</th>\n",
       "      <td>5046.07</td>\n",
       "    </tr>\n",
       "    <tr>\n",
       "      <th>123451701</th>\n",
       "      <td>5023.65</td>\n",
       "    </tr>\n",
       "    <tr>\n",
       "      <th>123457070</th>\n",
       "      <td>5014.01</td>\n",
       "    </tr>\n",
       "    <tr>\n",
       "      <th>123457654</th>\n",
       "      <td>5012.81</td>\n",
       "    </tr>\n",
       "    <tr>\n",
       "      <th>123452856</th>\n",
       "      <td>5008.23</td>\n",
       "    </tr>\n",
       "    <tr>\n",
       "      <th>123456079</th>\n",
       "      <td>5008.09</td>\n",
       "    </tr>\n",
       "    <tr>\n",
       "      <th>123456849</th>\n",
       "      <td>5006.73</td>\n",
       "    </tr>\n",
       "    <tr>\n",
       "      <th>123452890</th>\n",
       "      <td>4995.10</td>\n",
       "    </tr>\n",
       "    <tr>\n",
       "      <th>123456747</th>\n",
       "      <td>4986.13</td>\n",
       "    </tr>\n",
       "  </tbody>\n",
       "</table>\n",
       "</div>"
      ],
      "text/plain": [
       "           TRANSACTION_VALUE\n",
       "CUST_SSN                    \n",
       "123451125            5633.07\n",
       "123452783            5548.14\n",
       "123453486            5476.08\n",
       "123458668            5314.97\n",
       "123456678            5261.03\n",
       "123452026            5241.18\n",
       "123452518            5223.96\n",
       "123454933            5203.08\n",
       "123457547            5149.75\n",
       "123452085            5133.29\n",
       "123455898            5062.33\n",
       "123456862            5046.07\n",
       "123451701            5023.65\n",
       "123457070            5014.01\n",
       "123457654            5012.81\n",
       "123452856            5008.23\n",
       "123456079            5008.09\n",
       "123456849            5006.73\n",
       "123452890            4995.10\n",
       "123456747            4986.13"
      ]
     },
     "execution_count": 68,
     "metadata": {},
     "output_type": "execute_result"
    }
   ],
   "source": [
    "graph3 = pd_credit.groupby('CUST_SSN').sum()['TRANSACTION_VALUE'].to_frame().sort_values( by='TRANSACTION_VALUE',ascending =False).head(20)\n",
    "graph3"
   ]
  },
  {
   "cell_type": "code",
   "execution_count": 85,
   "id": "0bcee8c0",
   "metadata": {},
   "outputs": [
    {
     "data": {
      "text/plain": [
       "Text(0, 0.5, 'Transaction Value')"
      ]
     },
     "execution_count": 85,
     "metadata": {},
     "output_type": "execute_result"
    },
    {
     "data": {
      "image/png": "[encoded data removed]",
      "text/plain": [
       "<Figure size 1440x720 with 1 Axes>"
      ]
     },
     "metadata": {
      "needs_background": "light"
     },
     "output_type": "display_data"
    }
   ],
   "source": [
    "graph3.plot(kind = 'bar' , figsize = (20,10) ,rot=90)\n",
    "plt.xlabel(\"Customer\")\n",
    "plt.ylabel(\"Transaction Value\")"
   ]
  },
  {
   "cell_type": "markdown",
   "id": "0308f3f5",
   "metadata": {},
   "source": [
    "### 3.4 Find and plot the top three months with the largest transaction data.\n"
   ]
  },
  {
   "cell_type": "code",
   "execution_count": 86,
   "id": "344ca782",
   "metadata": {},
   "outputs": [
    {
     "data": {
      "text/plain": [
       "Text(0, 0.5, 'Transaction Value')"
      ]
     },
     "execution_count": 86,
     "metadata": {},
     "output_type": "execute_result"
    },
    {
     "data": {
      "image/png": "[encoded data removed]",
      "text/plain": [
       "<Figure size 432x288 with 1 Axes>"
      ]
     },
     "metadata": {
      "needs_background": "light"
     },
     "output_type": "display_data"
    }
   ],
   "source": [
    "graph4 = pd_credit.groupby('MONTH').sum()['TRANSACTION_VALUE'].to_frame().sort_values( by='TRANSACTION_VALUE',ascending =False).head(3)\n",
    "graph4\n",
    "\n",
    "graph4.plot(kind = 'bar' )\n",
    "plt.xlabel(\"Month\")\n",
    "plt.ylabel(\"Transaction Value\")"
   ]
  },
  {
   "cell_type": "markdown",
   "id": "74083163",
   "metadata": {},
   "source": [
    "### 3.5 Find and plot each branches healthcare transactions, showing which branch  processed the highest total dollar value of healthcare transactions.\n",
    "\n"
   ]
  },
  {
   "cell_type": "code",
   "execution_count": 89,
   "id": "7db2f57b",
   "metadata": {},
   "outputs": [
    {
     "data": {
      "text/html": [
       "<div>\n",
       "<style scoped>\n",
       "    .dataframe tbody tr th:only-of-type {\n",
       "        vertical-align: middle;\n",
       "    }\n",
       "\n",
       "    .dataframe tbody tr th {\n",
       "        vertical-align: top;\n",
       "    }\n",
       "\n",
       "    .dataframe thead th {\n",
       "        text-align: right;\n",
       "    }\n",
       "</style>\n",
       "<table border=\"1\" class=\"dataframe\">\n",
       "  <thead>\n",
       "    <tr style=\"text-align: right;\">\n",
       "      <th></th>\n",
       "      <th>BRANCH_CODE</th>\n",
       "      <th>CREDIT_CARD_NO</th>\n",
       "      <th>CUST_SSN</th>\n",
       "      <th>DAY</th>\n",
       "      <th>MONTH</th>\n",
       "      <th>TRANSACTION_ID</th>\n",
       "      <th>TRANSACTION_TYPE</th>\n",
       "      <th>TRANSACTION_VALUE</th>\n",
       "      <th>YEAR</th>\n",
       "    </tr>\n",
       "  </thead>\n",
       "  <tbody>\n",
       "    <tr>\n",
       "      <th>27</th>\n",
       "      <td>43</td>\n",
       "      <td>4210653349028689</td>\n",
       "      <td>123459988</td>\n",
       "      <td>6</td>\n",
       "      <td>8</td>\n",
       "      <td>28</td>\n",
       "      <td>Healthcare</td>\n",
       "      <td>98.78</td>\n",
       "      <td>2018</td>\n",
       "    </tr>\n",
       "    <tr>\n",
       "      <th>32</th>\n",
       "      <td>117</td>\n",
       "      <td>4210653349028689</td>\n",
       "      <td>123459988</td>\n",
       "      <td>20</td>\n",
       "      <td>10</td>\n",
       "      <td>33</td>\n",
       "      <td>Healthcare</td>\n",
       "      <td>24.37</td>\n",
       "      <td>2018</td>\n",
       "    </tr>\n",
       "    <tr>\n",
       "      <th>43</th>\n",
       "      <td>36</td>\n",
       "      <td>4210653349028689</td>\n",
       "      <td>123459988</td>\n",
       "      <td>13</td>\n",
       "      <td>11</td>\n",
       "      <td>44</td>\n",
       "      <td>Healthcare</td>\n",
       "      <td>79.91</td>\n",
       "      <td>2018</td>\n",
       "    </tr>\n",
       "    <tr>\n",
       "      <th>44</th>\n",
       "      <td>124</td>\n",
       "      <td>4210653349028689</td>\n",
       "      <td>123459988</td>\n",
       "      <td>8</td>\n",
       "      <td>9</td>\n",
       "      <td>45</td>\n",
       "      <td>Healthcare</td>\n",
       "      <td>20.81</td>\n",
       "      <td>2018</td>\n",
       "    </tr>\n",
       "    <tr>\n",
       "      <th>48</th>\n",
       "      <td>69</td>\n",
       "      <td>4210653349028689</td>\n",
       "      <td>123459988</td>\n",
       "      <td>26</td>\n",
       "      <td>8</td>\n",
       "      <td>49</td>\n",
       "      <td>Healthcare</td>\n",
       "      <td>26.34</td>\n",
       "      <td>2018</td>\n",
       "    </tr>\n",
       "    <tr>\n",
       "      <th>...</th>\n",
       "      <td>...</td>\n",
       "      <td>...</td>\n",
       "      <td>...</td>\n",
       "      <td>...</td>\n",
       "      <td>...</td>\n",
       "      <td>...</td>\n",
       "      <td>...</td>\n",
       "      <td>...</td>\n",
       "      <td>...</td>\n",
       "    </tr>\n",
       "    <tr>\n",
       "      <th>46633</th>\n",
       "      <td>66</td>\n",
       "      <td>4210653375981317</td>\n",
       "      <td>123451012</td>\n",
       "      <td>17</td>\n",
       "      <td>2</td>\n",
       "      <td>46634</td>\n",
       "      <td>Healthcare</td>\n",
       "      <td>10.03</td>\n",
       "      <td>2018</td>\n",
       "    </tr>\n",
       "    <tr>\n",
       "      <th>46675</th>\n",
       "      <td>2</td>\n",
       "      <td>4210653344660822</td>\n",
       "      <td>123451007</td>\n",
       "      <td>18</td>\n",
       "      <td>10</td>\n",
       "      <td>46676</td>\n",
       "      <td>Healthcare</td>\n",
       "      <td>70.01</td>\n",
       "      <td>2018</td>\n",
       "    </tr>\n",
       "    <tr>\n",
       "      <th>46680</th>\n",
       "      <td>38</td>\n",
       "      <td>4210653344660822</td>\n",
       "      <td>123451007</td>\n",
       "      <td>27</td>\n",
       "      <td>10</td>\n",
       "      <td>46681</td>\n",
       "      <td>Healthcare</td>\n",
       "      <td>72.78</td>\n",
       "      <td>2018</td>\n",
       "    </tr>\n",
       "    <tr>\n",
       "      <th>46686</th>\n",
       "      <td>63</td>\n",
       "      <td>4210653344660822</td>\n",
       "      <td>123451007</td>\n",
       "      <td>22</td>\n",
       "      <td>12</td>\n",
       "      <td>46687</td>\n",
       "      <td>Healthcare</td>\n",
       "      <td>5.56</td>\n",
       "      <td>2018</td>\n",
       "    </tr>\n",
       "    <tr>\n",
       "      <th>46693</th>\n",
       "      <td>45</td>\n",
       "      <td>4210653344660822</td>\n",
       "      <td>123451007</td>\n",
       "      <td>17</td>\n",
       "      <td>11</td>\n",
       "      <td>46694</td>\n",
       "      <td>Healthcare</td>\n",
       "      <td>82.29</td>\n",
       "      <td>2018</td>\n",
       "    </tr>\n",
       "  </tbody>\n",
       "</table>\n",
       "<p>6723 rows × 9 columns</p>\n",
       "</div>"
      ],
      "text/plain": [
       "       BRANCH_CODE    CREDIT_CARD_NO   CUST_SSN  DAY  MONTH  TRANSACTION_ID  \\\n",
       "27              43  4210653349028689  123459988    6      8              28   \n",
       "32             117  4210653349028689  123459988   20     10              33   \n",
       "43              36  4210653349028689  123459988   13     11              44   \n",
       "44             124  4210653349028689  123459988    8      9              45   \n",
       "48              69  4210653349028689  123459988   26      8              49   \n",
       "...            ...               ...        ...  ...    ...             ...   \n",
       "46633           66  4210653375981317  123451012   17      2           46634   \n",
       "46675            2  4210653344660822  123451007   18     10           46676   \n",
       "46680           38  4210653344660822  123451007   27     10           46681   \n",
       "46686           63  4210653344660822  123451007   22     12           46687   \n",
       "46693           45  4210653344660822  123451007   17     11           46694   \n",
       "\n",
       "      TRANSACTION_TYPE  TRANSACTION_VALUE  YEAR  \n",
       "27          Healthcare              98.78  2018  \n",
       "32          Healthcare              24.37  2018  \n",
       "43          Healthcare              79.91  2018  \n",
       "44          Healthcare              20.81  2018  \n",
       "48          Healthcare              26.34  2018  \n",
       "...                ...                ...   ...  \n",
       "46633       Healthcare              10.03  2018  \n",
       "46675       Healthcare              70.01  2018  \n",
       "46680       Healthcare              72.78  2018  \n",
       "46686       Healthcare               5.56  2018  \n",
       "46693       Healthcare              82.29  2018  \n",
       "\n",
       "[6723 rows x 9 columns]"
      ]
     },
     "execution_count": 89,
     "metadata": {},
     "output_type": "execute_result"
    }
   ],
   "source": [
    "pd_credit[pd_credit['TRANSACTION_TYPE'] == 'Healthcare']"
   ]
  },
  {
   "cell_type": "code",
   "execution_count": 91,
   "id": "affd4379",
   "metadata": {},
   "outputs": [
    {
     "data": {
      "text/plain": [
       "Text(0, 0.5, 'TRANSACTION VALUE')"
      ]
     },
     "execution_count": 91,
     "metadata": {},
     "output_type": "execute_result"
    },
    {
     "data": {
      "image/png": "[encoded data removed]",
      "text/plain": [
       "<Figure size 432x288 with 1 Axes>"
      ]
     },
     "metadata": {
      "needs_background": "light"
     },
     "output_type": "display_data"
    }
   ],
   "source": [
    "graph5 = pd_credit[pd_credit['TRANSACTION_TYPE'] == 'Healthcare'].groupby('BRANCH_CODE').sum()['TRANSACTION_VALUE'].to_frame().sort_values( by='TRANSACTION_VALUE',ascending =False)\n",
    "graph5\n",
    "\n",
    "graph4.plot(kind = 'bar' )\n",
    "plt.xlabel(\"BRANCH CODE\")\n",
    "plt.ylabel(\"TRANSACTION VALUE\")"
   ]
  },
  {
   "cell_type": "markdown",
   "id": "6c082b7b",
   "metadata": {},
   "source": [
    "## 4. Functional Requirements - LOAN Application Dataset\n"
   ]
  },
  {
   "cell_type": "code",
   "execution_count": null,
   "id": "52815db1",
   "metadata": {},
   "outputs": [],
   "source": []
  }
 ],
 "metadata": {
  "kernelspec": {
   "display_name": "Python 3 (ipykernel)",
   "language": "python",
   "name": "python3"
  },
  "language_info": {
   "codemirror_mode": {
    "name": "ipython",
    "version": 3
   },
   "file_extension": ".py",
   "mimetype": "text/x-python",
   "name": "python",
   "nbconvert_exporter": "python",
   "pygments_lexer": "ipython3",
   "version": "3.9.12"
  }
 },
 "nbformat": 4,
 "nbformat_minor": 5
}
