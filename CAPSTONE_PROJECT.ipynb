{
 "cells": [
  {
   "cell_type": "markdown",
   "id": "986b2e18",
   "metadata": {},
   "source": [
    "### Business Requirements - ETL\n",
    "#### 1. Functional Requirements - Load Credit Card Database "
   ]
  },
  {
   "cell_type": "markdown",
   "id": "25354504",
   "metadata": {},
   "source": [
    "\n",
    "#### Req-1.1\n",
    "Data Extraction and Transformation with Python and \n",
    "PySpark\n",
    "\n",
    "For “Credit Card System,” create a Python and PySpark SQL program to read/extract the following JSON files according to the specifications found in the mapping document.\n",
    " \n",
    "1. CDW_SAPP_BRANCH.JSON\n",
    "2. CDW_SAPP_CREDITCARD.JSON\n",
    "3. CDW_SAPP_CUSTOMER.JSON\n"
   ]
  },
  {
   "cell_type": "code",
   "execution_count": 97,
   "id": "ac881f23",
   "metadata": {},
   "outputs": [],
   "source": [
    "import pyspark\n",
    "from pyspark.sql import SparkSession\n",
    "\n",
    "spark = SparkSession.builder.master(\"local[*]\").appName(\"Capstone\").getOrCreate()"
   ]
  },
  {
   "cell_type": "markdown",
   "id": "b6f2d5b6",
   "metadata": {},
   "source": [
    "#### READ TABLES AND TRANSFORM"
   ]
  },
  {
   "cell_type": "code",
   "execution_count": 98,
   "id": "8ca31f73",
   "metadata": {},
   "outputs": [
    {
     "name": "stdout",
     "output_type": "stream",
     "text": [
      "root\n",
      " |-- BRANCH_CITY: string (nullable = true)\n",
      " |-- BRANCH_CODE: long (nullable = true)\n",
      " |-- BRANCH_NAME: string (nullable = true)\n",
      " |-- BRANCH_PHONE: string (nullable = true)\n",
      " |-- BRANCH_STATE: string (nullable = true)\n",
      " |-- BRANCH_STREET: string (nullable = true)\n",
      " |-- BRANCH_ZIP: long (nullable = true)\n",
      " |-- LAST_UPDATED: string (nullable = true)\n",
      "\n",
      "+-----------------+-----------+------------+------------+------------+-------------------+----------+--------------------+\n",
      "|      BRANCH_CITY|BRANCH_CODE| BRANCH_NAME|BRANCH_PHONE|BRANCH_STATE|      BRANCH_STREET|BRANCH_ZIP|        LAST_UPDATED|\n",
      "+-----------------+-----------+------------+------------+------------+-------------------+----------+--------------------+\n",
      "|        Lakeville|          1|Example Bank|  1234565276|          MN|       Bridle Court|     55044|2018-04-18T16:51:...|\n",
      "|          Huntley|          2|Example Bank|  1234618993|          IL|  Washington Street|     60142|2018-04-18T16:51:...|\n",
      "|SouthRichmondHill|          3|Example Bank|  1234985926|          NY|      Warren Street|     11419|2018-04-18T16:51:...|\n",
      "|       Middleburg|          4|Example Bank|  1234663064|          FL|   Cleveland Street|     32068|2018-04-18T16:51:...|\n",
      "|    KingOfPrussia|          5|Example Bank|  1234849701|          PA|        14th Street|     19406|2018-04-18T16:51:...|\n",
      "|         Paterson|          7|Example Bank|  1234144890|          NJ|   Jefferson Street|      7501|2018-04-18T16:51:...|\n",
      "|        Pittsford|          8|Example Bank|  1234678272|          NY|           B Street|     14534|2018-04-18T16:51:...|\n",
      "|     Wethersfield|          9|Example Bank|  1234675219|          CT|    Jefferson Court|      6109|2018-04-18T16:51:...|\n",
      "|     NorthOlmsted|         10|Example Bank|  1234145047|          OH|     Cambridge Road|     44070|2018-04-18T16:51:...|\n",
      "|     Hillsborough|         11|Example Bank|  1234366354|          NJ|    3rd Street West|      8844|2018-04-18T16:51:...|\n",
      "|   MadisonHeights|         12|Example Bank|  1234867175|          MI|          Mill Road|     48071|2018-04-18T16:51:...|\n",
      "|           Oviedo|         14|Example Bank|  1234938460|          FL|  Washington Street|     32765|2018-04-18T16:51:...|\n",
      "|    Mechanicsburg|         15|Example Bank|  1234462043|          PA|    Chestnut Street|     17050|2018-04-18T16:51:...|\n",
      "|        Plainview|         16|Example Bank|  1234857525|          NY|       Monroe Drive|     11803|2018-04-18T16:51:...|\n",
      "|          Paducah|         17|Example Bank|  1234546360|          KY|    Railroad Street|     42001|2018-04-18T16:51:...|\n",
      "|     Harleysville|         18|Example Bank|  1234824455|          PA|Church Street South|     19438|2018-04-18T16:51:...|\n",
      "|     SilverSpring|         19|Example Bank|  1234484380|          MD|        King Street|     20901|2018-04-18T16:51:...|\n",
      "|       Burnsville|         20|Example Bank|  1234840138|          MN|   Canterbury Drive|     55337|2018-04-18T16:51:...|\n",
      "|           Tacoma|         21|Example Bank|  1234362433|          WA|         2nd Avenue|     98444|2018-04-18T16:51:...|\n",
      "|         Carlisle|         22|Example Bank|  1234922492|          PA| Front Street South|     17013|2018-04-18T16:51:...|\n",
      "+-----------------+-----------+------------+------------+------------+-------------------+----------+--------------------+\n",
      "only showing top 20 rows\n",
      "\n"
     ]
    }
   ],
   "source": [
    "# branch = spark.read.json(\"./data/cdw_sapp_branch.json\")\n",
    "branch = spark.read.load(\"./data/cdw_sapp_branch.json\", format = 'json')\n",
    "branch.printSchema()\n",
    "branch.show()\n",
    "# type(branch)\n",
    "# branch.createTempView(\"branch\")\n"
   ]
  },
  {
   "cell_type": "code",
   "execution_count": 129,
   "id": "f36115f7",
   "metadata": {},
   "outputs": [
    {
     "name": "stdout",
     "output_type": "stream",
     "text": [
      "+-----------------+-----------+------------+------------+------------+-------------------+----------+--------------------+\n",
      "|      BRANCH_CITY|BRANCH_CODE| BRANCH_NAME|BRANCH_PHONE|BRANCH_STATE|      BRANCH_STREET|BRANCH_ZIP|        LAST_UPDATED|\n",
      "+-----------------+-----------+------------+------------+------------+-------------------+----------+--------------------+\n",
      "|        Lakeville|          1|Example Bank|  1234565276|          MN|       Bridle Court|     55044|2018-04-18T16:51:...|\n",
      "|          Huntley|          2|Example Bank|  1234618993|          IL|  Washington Street|     60142|2018-04-18T16:51:...|\n",
      "|SouthRichmondHill|          3|Example Bank|  1234985926|          NY|      Warren Street|     11419|2018-04-18T16:51:...|\n",
      "|       Middleburg|          4|Example Bank|  1234663064|          FL|   Cleveland Street|     32068|2018-04-18T16:51:...|\n",
      "|    KingOfPrussia|          5|Example Bank|  1234849701|          PA|        14th Street|     19406|2018-04-18T16:51:...|\n",
      "|         Paterson|          7|Example Bank|  1234144890|          NJ|   Jefferson Street|      7501|2018-04-18T16:51:...|\n",
      "|        Pittsford|          8|Example Bank|  1234678272|          NY|           B Street|     14534|2018-04-18T16:51:...|\n",
      "|     Wethersfield|          9|Example Bank|  1234675219|          CT|    Jefferson Court|      6109|2018-04-18T16:51:...|\n",
      "|     NorthOlmsted|         10|Example Bank|  1234145047|          OH|     Cambridge Road|     44070|2018-04-18T16:51:...|\n",
      "|     Hillsborough|         11|Example Bank|  1234366354|          NJ|    3rd Street West|      8844|2018-04-18T16:51:...|\n",
      "|   MadisonHeights|         12|Example Bank|  1234867175|          MI|          Mill Road|     48071|2018-04-18T16:51:...|\n",
      "|           Oviedo|         14|Example Bank|  1234938460|          FL|  Washington Street|     32765|2018-04-18T16:51:...|\n",
      "|    Mechanicsburg|         15|Example Bank|  1234462043|          PA|    Chestnut Street|     17050|2018-04-18T16:51:...|\n",
      "|        Plainview|         16|Example Bank|  1234857525|          NY|       Monroe Drive|     11803|2018-04-18T16:51:...|\n",
      "|          Paducah|         17|Example Bank|  1234546360|          KY|    Railroad Street|     42001|2018-04-18T16:51:...|\n",
      "|     Harleysville|         18|Example Bank|  1234824455|          PA|Church Street South|     19438|2018-04-18T16:51:...|\n",
      "|     SilverSpring|         19|Example Bank|  1234484380|          MD|        King Street|     20901|2018-04-18T16:51:...|\n",
      "|       Burnsville|         20|Example Bank|  1234840138|          MN|   Canterbury Drive|     55337|2018-04-18T16:51:...|\n",
      "|           Tacoma|         21|Example Bank|  1234362433|          WA|         2nd Avenue|     98444|2018-04-18T16:51:...|\n",
      "|         Carlisle|         22|Example Bank|  1234922492|          PA| Front Street South|     17013|2018-04-18T16:51:...|\n",
      "+-----------------+-----------+------------+------------+------------+-------------------+----------+--------------------+\n",
      "only showing top 20 rows\n",
      "\n"
     ]
    }
   ],
   "source": [
    "branch.na.fill({'BRANCH_ZIP':00000}).show()"
   ]
  },
  {
   "cell_type": "code",
   "execution_count": 137,
   "id": "4438c825",
   "metadata": {},
   "outputs": [],
   "source": [
    "from pyspark.sql.functions import concat,lit,col,substring,to_timestamp"
   ]
  },
  {
   "cell_type": "code",
   "execution_count": 143,
   "id": "7e2638d0",
   "metadata": {},
   "outputs": [
    {
     "name": "stdout",
     "output_type": "stream",
     "text": [
      "+-----------------+-----------+------------+-------------+------------+-------------------+----------+-------------------+\n",
      "|      BRANCH_CITY|BRANCH_CODE| BRANCH_NAME| BRANCH_PHONE|BRANCH_STATE|      BRANCH_STREET|BRANCH_ZIP|       LAST_UPDATED|\n",
      "+-----------------+-----------+------------+-------------+------------+-------------------+----------+-------------------+\n",
      "|        Lakeville|          1|Example Bank|(123)456-5276|          MN|       Bridle Court|     55044|2018-04-18 14:51:47|\n",
      "|          Huntley|          2|Example Bank|(123)461-8993|          IL|  Washington Street|     60142|2018-04-18 14:51:47|\n",
      "|SouthRichmondHill|          3|Example Bank|(123)498-5926|          NY|      Warren Street|     11419|2018-04-18 14:51:47|\n",
      "|       Middleburg|          4|Example Bank|(123)466-3064|          FL|   Cleveland Street|     32068|2018-04-18 14:51:47|\n",
      "|    KingOfPrussia|          5|Example Bank|(123)484-9701|          PA|        14th Street|     19406|2018-04-18 14:51:47|\n",
      "|         Paterson|          7|Example Bank|(123)414-4890|          NJ|   Jefferson Street|      7501|2018-04-18 14:51:47|\n",
      "|        Pittsford|          8|Example Bank|(123)467-8272|          NY|           B Street|     14534|2018-04-18 14:51:47|\n",
      "|     Wethersfield|          9|Example Bank|(123)467-5219|          CT|    Jefferson Court|      6109|2018-04-18 14:51:47|\n",
      "|     NorthOlmsted|         10|Example Bank|(123)414-5047|          OH|     Cambridge Road|     44070|2018-04-18 14:51:47|\n",
      "|     Hillsborough|         11|Example Bank|(123)436-6354|          NJ|    3rd Street West|      8844|2018-04-18 14:51:47|\n",
      "|   MadisonHeights|         12|Example Bank|(123)486-7175|          MI|          Mill Road|     48071|2018-04-18 14:51:47|\n",
      "|           Oviedo|         14|Example Bank|(123)493-8460|          FL|  Washington Street|     32765|2018-04-18 14:51:47|\n",
      "|    Mechanicsburg|         15|Example Bank|(123)446-2043|          PA|    Chestnut Street|     17050|2018-04-18 14:51:47|\n",
      "|        Plainview|         16|Example Bank|(123)485-7525|          NY|       Monroe Drive|     11803|2018-04-18 14:51:47|\n",
      "|          Paducah|         17|Example Bank|(123)454-6360|          KY|    Railroad Street|     42001|2018-04-18 14:51:47|\n",
      "|     Harleysville|         18|Example Bank|(123)482-4455|          PA|Church Street South|     19438|2018-04-18 14:51:47|\n",
      "|     SilverSpring|         19|Example Bank|(123)448-4380|          MD|        King Street|     20901|2018-04-18 14:51:47|\n",
      "|       Burnsville|         20|Example Bank|(123)484-0138|          MN|   Canterbury Drive|     55337|2018-04-18 14:51:47|\n",
      "|           Tacoma|         21|Example Bank|(123)436-2433|          WA|         2nd Avenue|     98444|2018-04-18 14:51:47|\n",
      "|         Carlisle|         22|Example Bank|(123)492-2492|          PA| Front Street South|     17013|2018-04-18 14:51:47|\n",
      "+-----------------+-----------+------------+-------------+------------+-------------------+----------+-------------------+\n",
      "only showing top 20 rows\n",
      "\n"
     ]
    }
   ],
   "source": [
    "tr_branch = branch.select(col(\"BRANCH_CITY\") \\\n",
    "          ,col(\"BRANCH_CODE\")\\\n",
    "          ,col(\"BRANCH_NAME\") \\\n",
    "          ,(concat( lit(\"(\") ,substring(col(\"BRANCH_PHONE\"),1,3),lit(\")\") ,substring(col(\"BRANCH_PHONE\"),4,3), lit(\"-\") ,substring(col(\"BRANCH_PHONE\"),7,4) )).alias(\"BRANCH_PHONE\") \\\n",
    "          ,col(\"BRANCH_STATE\") \\\n",
    "          ,col(\"BRANCH_STREET\")\\\n",
    "          ,col(\"BRANCH_ZIP\") \\\n",
    "          ,to_timestamp(concat(substring(col(\"LAST_UPDATED\"),1,10),lit(\" \"),substring(col(\"LAST_UPDATED\"),12,20))).alias(\"LAST_UPDATED\") \\\n",
    "          )\n",
    "# tr_branch = spark.sql(\"SELECT BRANCH_CITY \\\n",
    "#           ,BRANCH_CODE \\\n",
    "#           ,BRANCH_NAME \\ \n",
    "#           ,concat('(' ,substr(BRANCH_PHONE,1,3), ')' ,substr(BRANCH_PHONE,4,3), '-' ,substr(BRANCH_PHONE,7,4)) as BRANCH_PHONE \\\n",
    "#           ,BRANCH_STATE \\\n",
    "#           ,BRANCH_STREET\\\n",
    "#           ,BRANCH_ZIP \\\n",
    "#           ,LAST_UPDATED \\\n",
    "#           from branch\")\n",
    "\n",
    "tr_branch.show()"
   ]
  },
  {
   "cell_type": "code",
   "execution_count": 102,
   "id": "a8aeb1d7",
   "metadata": {},
   "outputs": [
    {
     "name": "stdout",
     "output_type": "stream",
     "text": [
      "root\n",
      " |-- BRANCH_CODE: long (nullable = true)\n",
      " |-- CREDIT_CARD_NO: string (nullable = true)\n",
      " |-- CUST_SSN: long (nullable = true)\n",
      " |-- DAY: long (nullable = true)\n",
      " |-- MONTH: long (nullable = true)\n",
      " |-- TRANSACTION_ID: long (nullable = true)\n",
      " |-- TRANSACTION_TYPE: string (nullable = true)\n",
      " |-- TRANSACTION_VALUE: double (nullable = true)\n",
      " |-- YEAR: long (nullable = true)\n",
      "\n",
      "+-----------+----------------+---------+---+-----+--------------+----------------+-----------------+----+\n",
      "|BRANCH_CODE|  CREDIT_CARD_NO| CUST_SSN|DAY|MONTH|TRANSACTION_ID|TRANSACTION_TYPE|TRANSACTION_VALUE|YEAR|\n",
      "+-----------+----------------+---------+---+-----+--------------+----------------+-----------------+----+\n",
      "|        114|4210653349028689|123459988| 14|    2|             1|       Education|             78.9|2018|\n",
      "|         35|4210653349028689|123459988| 20|    3|             2|   Entertainment|            14.24|2018|\n",
      "|        160|4210653349028689|123459988|  8|    7|             3|         Grocery|             56.7|2018|\n",
      "|        114|4210653349028689|123459988| 19|    4|             4|   Entertainment|            59.73|2018|\n",
      "|         93|4210653349028689|123459988| 10|   10|             5|             Gas|             3.59|2018|\n",
      "|        164|4210653349028689|123459988| 28|    5|             6|       Education|             6.89|2018|\n",
      "|        119|4210653349028689|123459988| 19|    5|             7|   Entertainment|            43.39|2018|\n",
      "|         23|4210653349028689|123459988|  8|    8|             8|             Gas|            95.39|2018|\n",
      "|        166|4210653349028689|123459988| 18|    3|             9|   Entertainment|            93.26|2018|\n",
      "|         83|4210653349028689|123459988|  3|    9|            10|           Bills|           100.38|2018|\n",
      "|         52|4210653349028689|123459988| 21|    8|            11|             Gas|            98.75|2018|\n",
      "|         17|4210653349028689|123459988| 24|   12|            12|             Gas|            42.71|2018|\n",
      "|         80|4210653349028689|123459988|  3|    4|            13|         Grocery|            40.24|2018|\n",
      "|         50|4210653349028689|123459988| 15|    4|            14|           Bills|            17.81|2018|\n",
      "|        123|4210653349028689|123459988| 17|    5|            15|           Bills|             29.0|2018|\n",
      "|          9|4210653349028689|123459988|  6|    7|            16|            Test|            70.63|2018|\n",
      "|          3|4210653349028689|123459988| 28|    9|            17|            Test|            27.04|2018|\n",
      "|        135|4210653349028689|123459988|  4|    7|            18|   Entertainment|            88.75|2018|\n",
      "|        103|4210653349028689|123459988| 24|    4|            19|            Test|            77.02|2018|\n",
      "|         78|4210653349028689|123459988|  8|   10|            20|           Bills|            34.34|2018|\n",
      "+-----------+----------------+---------+---+-----+--------------+----------------+-----------------+----+\n",
      "only showing top 20 rows\n",
      "\n"
     ]
    }
   ],
   "source": [
    "credit = spark.read.load(\"./data/cdw_sapp_credit.json\", format = 'json')\n",
    "credit.printSchema()\n",
    "# credit.show()\n",
    "# credit.createTempView(\"credit\")\n",
    "spark.sql(\"SELECT * from credit\").show()"
   ]
  },
  {
   "cell_type": "code",
   "execution_count": 103,
   "id": "686f34d8",
   "metadata": {},
   "outputs": [
    {
     "name": "stdout",
     "output_type": "stream",
     "text": [
      "+-----------+----------------+---------+--------+--------------+----------------+-----------------+\n",
      "|BRANCH_CODE|      CUST_CC_NO| CUST_SSN|  TIMEID|TRANSACTION_ID|TRANSACTION_TYPE|TRANSACTION_VALUE|\n",
      "+-----------+----------------+---------+--------+--------------+----------------+-----------------+\n",
      "|        114|4210653349028689|123459988|20180214|             1|       Education|             78.9|\n",
      "|         35|4210653349028689|123459988|20180320|             2|   Entertainment|            14.24|\n",
      "|        160|4210653349028689|123459988|20180708|             3|         Grocery|             56.7|\n",
      "|        114|4210653349028689|123459988|20180419|             4|   Entertainment|            59.73|\n",
      "|         93|4210653349028689|123459988|20181010|             5|             Gas|             3.59|\n",
      "|        164|4210653349028689|123459988|20180528|             6|       Education|             6.89|\n",
      "|        119|4210653349028689|123459988|20180519|             7|   Entertainment|            43.39|\n",
      "|         23|4210653349028689|123459988|20180808|             8|             Gas|            95.39|\n",
      "|        166|4210653349028689|123459988|20180318|             9|   Entertainment|            93.26|\n",
      "|         83|4210653349028689|123459988|20180903|            10|           Bills|           100.38|\n",
      "|         52|4210653349028689|123459988|20180821|            11|             Gas|            98.75|\n",
      "|         17|4210653349028689|123459988|20181224|            12|             Gas|            42.71|\n",
      "|         80|4210653349028689|123459988|20180403|            13|         Grocery|            40.24|\n",
      "|         50|4210653349028689|123459988|20180415|            14|           Bills|            17.81|\n",
      "|        123|4210653349028689|123459988|20180517|            15|           Bills|             29.0|\n",
      "|          9|4210653349028689|123459988|20180706|            16|            Test|            70.63|\n",
      "|          3|4210653349028689|123459988|20180928|            17|            Test|            27.04|\n",
      "|        135|4210653349028689|123459988|20180704|            18|   Entertainment|            88.75|\n",
      "|        103|4210653349028689|123459988|20180424|            19|            Test|            77.02|\n",
      "|         78|4210653349028689|123459988|20181008|            20|           Bills|            34.34|\n",
      "+-----------+----------------+---------+--------+--------------+----------------+-----------------+\n",
      "only showing top 20 rows\n",
      "\n"
     ]
    }
   ],
   "source": [
    "# tr_credit =  credit.select(col(\"BRANCH_CODE\") \\\n",
    "#           ,col(\"CREDIT_CARD_NO\")\\\n",
    "#           ,col(\"CUST_SSN\") \\\n",
    "#           ,concat( lit(\"(\") ,substring(col(\"BRANCH_PHONE\"),1,3),lit(\")\") ,substring(col(\"BRANCH_PHONE\"),4,3), lit(\"-\") ,substring(col(\"BRANCH_PHONE\"),7,4) )  \\\n",
    "#           ,col(\"BRANCH_STATE\") \\\n",
    "#           ,col(\"BRANCH_STREET\")\\\n",
    "#           ,col(\"BRANCH_ZIP\") \\\n",
    "#           ,col(\"LAST_UPDATED\") \\\n",
    "#           )\n",
    "# tr_branch.show()\n",
    "tr_credit = spark.sql(\"SELECT BRANCH_CODE\\\n",
    "                    , CREDIT_CARD_NO as CUST_CC_NO\\\n",
    "                    , CUST_SSN \\\n",
    "                    , CASE WHEN MONTH<10 and DAY<10 THEN concat(YEAR,'0',MONTH,'0',DAY) \\\n",
    "                      WHEN MONTH<10 THEN concat(YEAR,'0',MONTH,DAY)\\\n",
    "                      WHEN DAY<10 THEN concat(YEAR,MONTH,'0',DAY) \\\n",
    "                      ELSE concat(YEAR,MONTH,DAY) END as TIMEID \\\n",
    "                    ,TRANSACTION_ID\\\n",
    "                    ,TRANSACTION_TYPE\\\n",
    "                    ,TRANSACTION_VALUE\\\n",
    "                    from credit\")\n",
    "tr_credit.show()"
   ]
  },
  {
   "cell_type": "code",
   "execution_count": 105,
   "id": "319e70b6",
   "metadata": {},
   "outputs": [
    {
     "name": "stdout",
     "output_type": "stream",
     "text": [
      "root\n",
      " |-- APT_NO: string (nullable = true)\n",
      " |-- CREDIT_CARD_NO: string (nullable = true)\n",
      " |-- CUST_CITY: string (nullable = true)\n",
      " |-- CUST_COUNTRY: string (nullable = true)\n",
      " |-- CUST_EMAIL: string (nullable = true)\n",
      " |-- CUST_PHONE: long (nullable = true)\n",
      " |-- CUST_STATE: string (nullable = true)\n",
      " |-- CUST_ZIP: string (nullable = true)\n",
      " |-- FIRST_NAME: string (nullable = true)\n",
      " |-- LAST_NAME: string (nullable = true)\n",
      " |-- LAST_UPDATED: string (nullable = true)\n",
      " |-- MIDDLE_NAME: string (nullable = true)\n",
      " |-- SSN: long (nullable = true)\n",
      " |-- STREET_NAME: string (nullable = true)\n",
      "\n"
     ]
    }
   ],
   "source": [
    "customer = spark.read.load(\"./data/cdw_sapp_customer.json\", format = 'json')\n",
    "customer.printSchema()\n",
    "# customer.show()\n",
    "customer.createTempView(\"customer\")\n"
   ]
  },
  {
   "cell_type": "code",
   "execution_count": 117,
   "id": "7dea4de7",
   "metadata": {},
   "outputs": [
    {
     "name": "stdout",
     "output_type": "stream",
     "text": [
      "+---------+----------------+------------+----------+-------------+--------------------+--------+----------+--------------------+----------+-----------+---------+-------------------+\n",
      "|      SSN|  CREDIT_CARD_NO|   CUST_CITY|CUST_STATE| CUST_COUNTRY|          CUST_EMAIL|CUST_ZIP|CUST_PHONE| FULL_STREET_ADDRESS|FIRST_NAME|MIDDLE_NAME|LAST_NAME|       LAST_UPDATED|\n",
      "+---------+----------------+------------+----------+-------------+--------------------+--------+----------+--------------------+----------+-----------+---------+-------------------+\n",
      "|123456100|4210653310061055|     Natchez|        MS|United States| AHooper@example.com|   39120|  123-7818|Main Street North...|      Alec|         Wm|   Hooper|2018-04-21 10:49:02|\n",
      "|123453023|4210653310102868|Wethersfield|        CT|United States| EHolman@example.com|   06109|  123-8933|   Redwood Drive,829|      Etta|    Brendan|   Holman|2018-04-21 10:49:02|\n",
      "|123454487|4210653310116272|     Huntley|        IL|United States| WDunham@example.com|   60142|  124-3018|12th Street East,683|    Wilber|   Ezequiel|   Dunham|2018-04-21 10:49:02|\n",
      "|123459758|4210653310195948|   NewBerlin|        WI|United States|  EHardy@example.com|   53151|  124-3215|Country Club Road...|   Eugenio|      Trina|    Hardy|2018-04-21 10:49:02|\n",
      "|123454431|4210653310356919|      ElPaso|        TX|United States|  WAyers@example.com|   79930|  124-2074|  Madison Street,301|   Wilfred|        May|    Ayers|2018-04-21 10:49:02|\n",
      "|123454202|4210653310395982|NorthOlmsted|        OH|United States|BWoodard@example.com|   44070|  124-2570|    Colonial Drive,3|      Beau|    Ambrose|  Woodard|2018-04-21 10:49:02|\n",
      "|123451799|4210653310400536|      Vienna|        VA|United States|   SKemp@example.com|   22180|  123-9685|   Belmont Avenue,84|    Sheila|      Larry|     Kemp|2018-04-21 10:49:02|\n",
      "|123453875|4210653310459911|      Duarte|        CA|United States| WHurley@example.com|   91010|  123-8213|    Oxford Court,728|     Wendy|        Ora|   Hurley|2018-04-21 10:49:02|\n",
      "|123457511|4210653310773972|      Owosso|        MI|United States|AGilmore@example.com|   48867|  124-0689|    Forest Street,81|      Alec|     Tracie|  Gilmore|2018-04-21 10:49:02|\n",
      "|123457464|4210653310794854|        Zion|        IL|United States|    BLau@example.com|   60099|  123-5222|    Court Street,561|    Barbra|    Mitchel|      Lau|2018-04-21 10:49:02|\n",
      "|123457639|4210653310817373|  Youngstown|        OH|United States|EThomson@example.com|   44512|  124-1363|   Cypress Court,622|   Edmundo|      Denny|  Thomson|2018-04-21 10:49:02|\n",
      "|123453242|4210653310844617| Summerville|        SC|United States| ETruong@example.com|   29483|  123-6228| 8th Street West,924|      Elsa|   Isabelle|   Truong|2018-04-21 10:49:02|\n",
      "|123454339|4210653311015303|      ElPaso|        TX|United States|HMckinney@example...|   79930|  123-8165|     East Avenue,611|     Homer|      Henry| Mckinney|2018-04-21 10:49:02|\n",
      "|123454537|4210653311215039|      Fenton|        MI|United States|   RKidd@example.com|   48430|  123-4730|        Route 44,680|      Rita|     Rickey|     Kidd|2018-04-21 10:49:02|\n",
      "|123452373|4210653311229354|  Grandville|        MI|United States|ABallard@example.com|   49418|  124-2113|    Warren Street,71|    Amalia|  Heriberto|  Ballard|2018-04-21 10:49:02|\n",
      "|123455343|4210653311652836|    YubaCity|        CA|United States| PThomas@example.com|   95993|  123-9888|    Jones Street,195|     Patty|   Angelita|   Thomas|2018-04-21 10:49:02|\n",
      "|123451533|4210653311707126|   CapeCoral|        FL|United States| JMorrow@example.com|   33904|  124-0158|      New Street,500|  Josefina|   Dorothea|   Morrow|2018-04-21 10:49:02|\n",
      "|123459278|4210653311730764|  Brookfield|        WI|United States|NAndrews@example.com|   53045|  124-1408| Division Street,989|    Nelson|  Jefferson|  Andrews|2018-04-21 10:49:02|\n",
      "|123456915|4210653311898082|    Richmond|        VA|United States|MSchneider@exampl...|   23223|  123-8390|    Maple Street,810|    Miquel|     Maximo|Schneider|2018-04-21 10:49:02|\n",
      "|123453807|4210653312021765| WestChester|        PA|United States|PTidwell@example.com|   19380|  123-5067|      Eagle Road,649|    Parker|    Arnulfo|  Tidwell|2018-04-21 10:49:02|\n",
      "+---------+----------------+------------+----------+-------------+--------------------+--------+----------+--------------------+----------+-----------+---------+-------------------+\n",
      "only showing top 20 rows\n",
      "\n"
     ]
    }
   ],
   "source": [
    "tr_customer = spark.sql(\"SELECT SSN\\\n",
    "                ,CREDIT_CARD_NO\\\n",
    "                ,CUST_CITY\\\n",
    "                ,CUST_STATE\\\n",
    "                ,CUST_COUNTRY\\\n",
    "                ,CUST_EMAIL\\\n",
    "                ,CUST_ZIP\\\n",
    "                ,concat( substr(CUST_PHONE,1,3) , '-', substr(CUST_PHONE,4,4)) as CUST_PHONE \\\n",
    "                ,concat(STREET_NAME, ',' ,APT_NO) as FULL_STREET_ADDRESS \\\n",
    "                ,concat(UPPER(substr(FIRST_NAME,1,1)),LOWER(substr(FIRST_NAME,2))) as FIRST_NAME\\\n",
    "                ,concat(UPPER(substr(MIDDLE_NAME,1,1)),LOWER(substr(MIDDLE_NAME,2))) as MIDDLE_NAME\\\n",
    "                ,concat(UPPER(substr(LAST_NAME,1,1)),LOWER(substr(LAST_NAME,2))) as LAST_NAME\\\n",
    "                ,timestamp(concat(substr(LAST_UPDATED,1,10),' ',substr(LAST_UPDATED,12))) as LAST_UPDATED\\\n",
    "                from customer\")\n",
    "tr_customer.show()\n"
   ]
  },
  {
   "cell_type": "markdown",
   "id": "d4e838e2",
   "metadata": {},
   "source": [
    "####  Req-1.2 Data loading into Database\n",
    "\n"
   ]
  },
  {
   "cell_type": "code",
   "execution_count": 118,
   "id": "cf374335",
   "metadata": {},
   "outputs": [],
   "source": [
    "tr_customer.write.format(\"jdbc\") \\\n",
    "          .mode(\"append\") \\\n",
    "          .options(driver=\"com.mysql.cj.jdbc.Driver\",\\\n",
    "                user=\"root\",\\\n",
    "                password=\"root\",\\\n",
    "                url=\"jdbc:mysql://localhost:3306/creditcard_capstone\",\\\n",
    "                dbtable=\"creditcard_capstone.CDW_SAPP_CUSTOMER\").save()"
   ]
  },
  {
   "cell_type": "code",
   "execution_count": 144,
   "id": "f7261738",
   "metadata": {},
   "outputs": [],
   "source": [
    "tr_branch.write.format(\"jdbc\") \\\n",
    "          .mode(\"append\") \\\n",
    "          .options(driver=\"com.mysql.cj.jdbc.Driver\",\\\n",
    "                user=\"root\",\\\n",
    "                password=\"root\",\\\n",
    "                url=\"jdbc:mysql://localhost:3306/creditcard_capstone\",\\\n",
    "                dbtable=\"creditcard_capstone.CDW_SAPP_BRANCH\").save()\n"
   ]
  },
  {
   "cell_type": "code",
   "execution_count": 145,
   "id": "4c10c284",
   "metadata": {},
   "outputs": [],
   "source": [
    "tr_credit.write.format(\"jdbc\") \\\n",
    "          .mode(\"append\") \\\n",
    "          .options(driver=\"com.mysql.cj.jdbc.Driver\",\\\n",
    "                user=\"root\",\\\n",
    "                password=\"root\",\\\n",
    "                url=\"jdbc:mysql://localhost:3306/creditcard_capstone\",\\\n",
    "                dbtable=\"creditcard_capstone.CDW_SAPP_CREDIT\").save()\n"
   ]
  },
  {
   "cell_type": "markdown",
   "id": "d919076c",
   "metadata": {},
   "source": [
    "### 2. Functional Requirements - Application Front-End\n"
   ]
  },
  {
   "cell_type": "markdown",
   "id": "60da7c78",
   "metadata": {},
   "source": [
    "#### Req-2.1 Transaction Details Module"
   ]
  },
  {
   "cell_type": "code",
   "execution_count": null,
   "id": "874559fe",
   "metadata": {},
   "outputs": [],
   "source": []
  }
 ],
 "metadata": {
  "kernelspec": {
   "display_name": "Python 3 (ipykernel)",
   "language": "python",
   "name": "python3"
  },
  "language_info": {
   "codemirror_mode": {
    "name": "ipython",
    "version": 3
   },
   "file_extension": ".py",
   "mimetype": "text/x-python",
   "name": "python",
   "nbconvert_exporter": "python",
   "pygments_lexer": "ipython3",
   "version": "3.9.12"
  }
 },
 "nbformat": 4,
 "nbformat_minor": 5
}
